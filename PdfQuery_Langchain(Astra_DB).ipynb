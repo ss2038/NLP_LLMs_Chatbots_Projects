{
  "nbformat": 4,
  "nbformat_minor": 0,
  "metadata": {
    "colab": {
      "provenance": []
    },
    "kernelspec": {
      "name": "python3",
      "display_name": "Python 3"
    },
    "language_info": {
      "name": "python"
    }
  },
  "cells": [
    {
      "cell_type": "code",
      "execution_count": null,
      "metadata": {
        "colab": {
          "base_uri": "https://localhost:8080/"
        },
        "id": "V8qaNjR1xK_P",
        "outputId": "e365df00-35c9-43ac-d6e2-0e785c473ef2"
      },
      "outputs": [
        {
          "output_type": "stream",
          "name": "stdout",
          "text": [
            "\u001b[2K     \u001b[90m━━━━━━━━━━━━━━━━━━━━━━━━━━━━━━━━━━━━━━━━\u001b[0m \u001b[32m40.1/40.1 kB\u001b[0m \u001b[31m742.3 kB/s\u001b[0m eta \u001b[36m0:00:00\u001b[0m\n",
            "\u001b[2K     \u001b[90m━━━━━━━━━━━━━━━━━━━━━━━━━━━━━━━━━━━━━━━━\u001b[0m \u001b[32m521.2/521.2 kB\u001b[0m \u001b[31m5.8 MB/s\u001b[0m eta \u001b[36m0:00:00\u001b[0m\n",
            "\u001b[2K     \u001b[90m━━━━━━━━━━━━━━━━━━━━━━━━━━━━━━━━━━━━━━━━\u001b[0m \u001b[32m809.1/809.1 kB\u001b[0m \u001b[31m8.5 MB/s\u001b[0m eta \u001b[36m0:00:00\u001b[0m\n",
            "\u001b[2K     \u001b[90m━━━━━━━━━━━━━━━━━━━━━━━━━━━━━━━━━━━━━━━━\u001b[0m \u001b[32m221.9/221.9 kB\u001b[0m \u001b[31m7.1 MB/s\u001b[0m eta \u001b[36m0:00:00\u001b[0m\n",
            "\u001b[2K     \u001b[90m━━━━━━━━━━━━━━━━━━━━━━━━━━━━━━━━━━━━━━━━\u001b[0m \u001b[32m2.0/2.0 MB\u001b[0m \u001b[31m13.4 MB/s\u001b[0m eta \u001b[36m0:00:00\u001b[0m\n",
            "\u001b[2K     \u001b[90m━━━━━━━━━━━━━━━━━━━━━━━━━━━━━━━━━━━━━━━━\u001b[0m \u001b[32m19.1/19.1 MB\u001b[0m \u001b[31m24.9 MB/s\u001b[0m eta \u001b[36m0:00:00\u001b[0m\n",
            "\u001b[2K     \u001b[90m━━━━━━━━━━━━━━━━━━━━━━━━━━━━━━━━━━━━━━━━\u001b[0m \u001b[32m115.3/115.3 kB\u001b[0m \u001b[31m8.8 MB/s\u001b[0m eta \u001b[36m0:00:00\u001b[0m\n",
            "\u001b[2K     \u001b[90m━━━━━━━━━━━━━━━━━━━━━━━━━━━━━━━━━━━━━━━━\u001b[0m \u001b[32m134.8/134.8 kB\u001b[0m \u001b[31m2.4 MB/s\u001b[0m eta \u001b[36m0:00:00\u001b[0m\n",
            "\u001b[2K     \u001b[90m━━━━━━━━━━━━━━━━━━━━━━━━━━━━━━━━━━━━━━━━\u001b[0m \u001b[32m1.5/1.5 MB\u001b[0m \u001b[31m44.8 MB/s\u001b[0m eta \u001b[36m0:00:00\u001b[0m\n",
            "\u001b[2K     \u001b[90m━━━━━━━━━━━━━━━━━━━━━━━━━━━━━━━━━━━━━━━━\u001b[0m \u001b[32m190.6/190.6 kB\u001b[0m \u001b[31m15.8 MB/s\u001b[0m eta \u001b[36m0:00:00\u001b[0m\n",
            "\u001b[2K     \u001b[90m━━━━━━━━━━━━━━━━━━━━━━━━━━━━━━━━━━━━━━━━\u001b[0m \u001b[32m46.2/46.2 kB\u001b[0m \u001b[31m2.8 MB/s\u001b[0m eta \u001b[36m0:00:00\u001b[0m\n",
            "\u001b[2K     \u001b[90m━━━━━━━━━━━━━━━━━━━━━━━━━━━━━━━━━━━━━━━━\u001b[0m \u001b[32m75.0/75.0 kB\u001b[0m \u001b[31m4.8 MB/s\u001b[0m eta \u001b[36m0:00:00\u001b[0m\n",
            "\u001b[2K     \u001b[90m━━━━━━━━━━━━━━━━━━━━━━━━━━━━━━━━━━━━━━━━\u001b[0m \u001b[32m49.4/49.4 kB\u001b[0m \u001b[31m2.5 MB/s\u001b[0m eta \u001b[36m0:00:00\u001b[0m\n",
            "\u001b[2K     \u001b[90m━━━━━━━━━━━━━━━━━━━━━━━━━━━━━━━━━━━━━━━━\u001b[0m \u001b[32m76.9/76.9 kB\u001b[0m \u001b[31m6.4 MB/s\u001b[0m eta \u001b[36m0:00:00\u001b[0m\n",
            "\u001b[2K     \u001b[90m━━━━━━━━━━━━━━━━━━━━━━━━━━━━━━━━━━━━━━━━\u001b[0m \u001b[32m58.3/58.3 kB\u001b[0m \u001b[31m5.1 MB/s\u001b[0m eta \u001b[36m0:00:00\u001b[0m\n",
            "\u001b[?25h\u001b[31mERROR: pip's dependency resolver does not currently take into account all the packages that are installed. This behaviour is the source of the following dependency conflicts.\n",
            "llmx 0.0.15a0 requires cohere, which is not installed.\u001b[0m\u001b[31m\n",
            "\u001b[0m"
          ]
        }
      ],
      "source": [
        "!pip install -q cassio datasets langchain openai tiktoken"
      ]
    },
    {
      "cell_type": "code",
      "source": [
        "# importing packages\n",
        "from langchain.vectorstores.cassandra import Cassandra\n",
        "from langchain.indexes.vectorstore import VectorStoreIndexWrapper\n",
        "from langchain.llms import OpenAI\n",
        "from langchain.embeddings import OpenAIEmbeddings\n",
        "\n",
        "#support fro datset retrieval with Huggingg face\n",
        "from datasets import load_dataset\n",
        "\n",
        "# with CassIO, the engine powering the Astra DB integration in LangChain you will also initialize the DB connection\n",
        "import cassio"
      ],
      "metadata": {
        "id": "dGVdwMaQyyV6"
      },
      "execution_count": null,
      "outputs": []
    },
    {
      "cell_type": "code",
      "source": [
        "!pip install PyPDF2"
      ],
      "metadata": {
        "colab": {
          "base_uri": "https://localhost:8080/"
        },
        "id": "X5e4W9hdzR4S",
        "outputId": "ad2814c2-bf1d-42be-e12d-1c01b7f6993c"
      },
      "execution_count": null,
      "outputs": [
        {
          "output_type": "stream",
          "name": "stdout",
          "text": [
            "Collecting PyPDF2\n",
            "  Downloading pypdf2-3.0.1-py3-none-any.whl (232 kB)\n",
            "\u001b[?25l     \u001b[90m━━━━━━━━━━━━━━━━━━━━━━━━━━━━━━━━━━━━━━━━\u001b[0m \u001b[32m0.0/232.6 kB\u001b[0m \u001b[31m?\u001b[0m eta \u001b[36m-:--:--\u001b[0m\r\u001b[2K     \u001b[91m━━━━━\u001b[0m\u001b[90m╺\u001b[0m\u001b[90m━━━━━━━━━━━━━━━━━━━━━━━━━━━━━━━━━━\u001b[0m \u001b[32m30.7/232.6 kB\u001b[0m \u001b[31m1.1 MB/s\u001b[0m eta \u001b[36m0:00:01\u001b[0m\r\u001b[2K     \u001b[91m━━━━━━━━━━━━━━━━━━━━━━━━━━━━━━━━━━━━━━\u001b[0m\u001b[91m╸\u001b[0m\u001b[90m━\u001b[0m \u001b[32m225.3/232.6 kB\u001b[0m \u001b[31m3.6 MB/s\u001b[0m eta \u001b[36m0:00:01\u001b[0m\r\u001b[2K     \u001b[90m━━━━━━━━━━━━━━━━━━━━━━━━━━━━━━━━━━━━━━━━\u001b[0m \u001b[32m232.6/232.6 kB\u001b[0m \u001b[31m3.2 MB/s\u001b[0m eta \u001b[36m0:00:00\u001b[0m\n",
            "\u001b[?25hInstalling collected packages: PyPDF2\n",
            "Successfully installed PyPDF2-3.0.1\n"
          ]
        }
      ]
    },
    {
      "cell_type": "code",
      "source": [
        "from PyPDF2 import PdfReader"
      ],
      "metadata": {
        "id": "TYSBKwQu0HJu"
      },
      "execution_count": null,
      "outputs": []
    },
    {
      "cell_type": "code",
      "source": [
        "# setup\n",
        "ASTRA_DB_APPLICATION_TOKEN = \"your token\"\n",
        "ASTRA_DB_ID = \"you ID\"\n",
        "\n",
        "OPENAI_API_KEY = \"api key\""
      ],
      "metadata": {
        "id": "OyBFeZGc0PR8"
      },
      "execution_count": null,
      "outputs": []
    },
    {
      "cell_type": "code",
      "source": [
        "pdfreader = PdfReader('/content/artificial_intelligence_tutorial.pdf')"
      ],
      "metadata": {
        "id": "4XTNiuDS1evr"
      },
      "execution_count": null,
      "outputs": []
    },
    {
      "cell_type": "code",
      "source": [
        "from typing_extensions import Concatenate\n",
        "# read text from odf\n",
        "raw_text = ''\n",
        "for i, page in enumerate(pdfreader.pages):\n",
        "  content = page.extract_text()\n",
        "  if content:\n",
        "    raw_text += content\n",
        "\n",
        "raw_text"
      ],
      "metadata": {
        "colab": {
          "base_uri": "https://localhost:8080/",
          "height": 139
        },
        "id": "psMc7GJv1mYa",
        "outputId": "f1092892-4cfd-4cba-dd1e-3763893e187b"
      },
      "execution_count": null,
      "outputs": [
        {
          "output_type": "execute_result",
          "data": {
            "text/plain": [
              "'Artificial Intelligence   \\n  i About the T utorial  \\nThis tutorial provides introductory  knowledge on Artificial Intelligence. It would come to a \\ngreat help if you are about to select Artificial Intelligence as a course subject. You can briefly \\nknow about the areas of AI in which research is prospering.  \\nAudience  \\nThis tutorial is prepared for the students at beginner level who aspire to learn Artificial \\nIntelligence.  \\nPrerequisites  \\nThe basic knowledge of Computer Science is mandatory. The knowledge of Mathematics, \\nLanguages,  Science , Mechanical or Electrical engineering is a plus.  \\nDisclaimer & Copyright  \\n\\uf0e3 Copyright 201 5 by Tutorials Point (I) Pvt. Ltd.  \\nAll the content and graphics published in this e -book are the property of Tutorials Point (I) \\nPvt. Ltd.  The user of this e -book is prohibited to reuse, retain, copy, distribute or republish \\nany contents or a part of contents of this e -book in any manner without wri tten consent of \\nthe publisher.  \\nWe strive to update the contents of our website and tutorials as timely and as precisely as \\npossible, however,  the contents may contain inaccuracies or errors. Tutorials Point  (I) Pvt. \\nLtd. provides no guarantee regarding the accuracy, timeliness or completeness of our website \\nor its contents including this tutorial. If you discover any errors on our website or in this \\ntutorial, please notify us at contact@tutorialspoint.com . \\n  Artificial Intelligence   \\n  ii T able of Contents  \\nAbout the Tutorial  ................................ ................................ ................................ ................................ .........  i \\nAudience  ................................ ................................ ................................ ................................ .......................  i \\nPrerequisites  ................................ ................................ ................................ ................................ .................  i \\nDisclaimer & Copyright  ................................ ................................ ................................ ................................ .. i \\nTable of Contents  ................................ ................................ ................................ ................................ .........  ii \\n1. OVERVIEW OF AI  ................................ ................................ ................................ ......................  1 \\nWhat is Artificial Intelligence?  ................................ ................................ ................................ ......................  1 \\nPhilosophy of AI  ................................ ................................ ................................ ................................ ...........  1 \\nGoals of AI  ................................ ................................ ................................ ................................ ....................  1 \\nWhat Contributes to AI?  ................................ ................................ ................................ ...............................  2 \\nProgra mming Without and With AI  ................................ ................................ ................................ ..............  2 \\nWhat is AI Technique?  ................................ ................................ ................................ ................................ .. 3 \\nApplications of AI  ................................ ................................ ................................ ................................ .........  3 \\nHistory of AI  ................................ ................................ ................................ ................................ .................  4 \\n2. INTELLIGENT SYSTEMS  ................................ ................................ ................................ .............  6 \\nWhat i s Intelligence?  ................................ ................................ ................................ ................................ .... 6 \\nTypes of Intelligence ................................ ................................ ................................ ................................ ..... 6 \\nWhat is Intelligence Composed of?  ................................ ................................ ................................ ..............  7 \\nDifference between Human and Machine Intelligence  ................................ ................................ .................  9 \\n3. RESEARCH AREAS OF AI  ................................ ................................ ................................ ..........  10 \\nReal Life Applications of Research Areas  ................................ ................................ ................................ .... 11 \\nTask Classification of AI  ................................ ................................ ................................ ..............................  12 Artificial Intelligence   \\n  iii 4. AGENTS AND ENVIRONME NTS ................................ ................................ ...............................  14 \\nWhat are Agent and Environment?  ................................ ................................ ................................ ............  14 \\nAgents Terminology  ................................ ................................ ................................ ................................ ... 14 \\nRationality  ................................ ................................ ................................ ................................ ..................  15 \\nWhat is Ideal Rational Agent?  ................................ ................................ ................................ ....................  15 \\nThe Structure of Intelligent Agents  ................................ ................................ ................................ .............  15 \\nThe Nature of Environments  ................................ ................................ ................................ ......................  18 \\nProperties of Environment  ................................ ................................ ................................ .........................  19 \\n5. POPULAR SEARCH ALGOR ITHMS  ................................ ................................ ............................  20 \\nSingle Agent Pathfinding Problems ................................ ................................ ................................ .............  20 \\nSearch Terminology  ................................ ................................ ................................ ................................ .... 20 \\nBrute -Forc e Search Strategies  ................................ ................................ ................................ ....................  20 \\nInformed (Heuristic) Search Strategies  ................................ ................................ ................................ .......  23 \\nLocal Search Algorithms  ................................ ................................ ................................ .............................  24 \\n6. FUZZY LOGIC SYSTEMS  ................................ ................................ ................................ ...........  27 \\nWhat i s Fuzzy Logic?  ................................ ................................ ................................ ................................ ... 27 \\nWhy Fuzzy Logic?  ................................ ................................ ................................ ................................ ........  27 \\nFuzzy Logic Systems Architecture  ................................ ................................ ................................ ...............  28 \\nExample of a Fuzzy Logic System  ................................ ................................ ................................ ................  29 \\nApplication Areas of Fuzzy Logic  ................................ ................................ ................................ .................  32 \\nAdvantages of FLSs  ................................ ................................ ................................ ................................ ..... 33 \\nDisadvantages of FLSs  ................................ ................................ ................................ ................................  33 \\n Artificial Intelligence   \\n  iv 7. NATURAL LANGUAGE PRO CESSING  ................................ ................................ ........................  34 \\nComponents of NLP  ................................ ................................ ................................ ................................ .... 34 \\nDifficulties in NLU  ................................ ................................ ................................ ................................ .......  34 \\nNLP Terminology  ................................ ................................ ................................ ................................ ........  35 \\nSteps in NLP ................................ ................................ ................................ ................................ ................  35 \\nImplementation Aspects of Syntactic Analysis ................................ ................................ ............................  36 \\n8. EXPERT SYSTEMS ................................ ................................ ................................ ....................  40 \\nWhat are Expert Systems?  ................................ ................................ ................................ ..........................  40 \\nCapa bilities of Expert Systems  ................................ ................................ ................................ ....................  40 \\nComponents of Expert Systems  ................................ ................................ ................................ ..................  41 \\nKnowledge Base  ................................ ................................ ................................ ................................ .........  41 \\nInference Engi ne ................................ ................................ ................................ ................................ .........  42 \\nUser Interface  ................................ ................................ ................................ ................................ .............  43 \\nExpert Systems Limitations ................................ ................................ ................................ .........................  44 \\nApplications of Expert System  ................................ ................................ ................................ ....................  44 \\nExpert System Technology  ................................ ................................ ................................ ..........................  45 \\nDevelopmen t of Expert Systems: General Steps  ................................ ................................ .........................  45 \\nBenefits of Expert Systems  ................................ ................................ ................................ .........................  46 \\n9. ROBOTICS  ................................ ................................ ................................ ..............................  47 \\nWhat are Robots?  ................................ ................................ ................................ ................................ .......  47 \\nWhat is Robotics?  ................................ ................................ ................................ ................................ .......  47 \\nDifference in Robot System and Other AI Program  ................................ ................................ .....................  47 \\nRobot Locomotion  ................................ ................................ ................................ ................................ ...... 48 \\nComponents of a Robot  ................................ ................................ ................................ ..............................  50 Artificial Intelligence   \\n  v Computer Vision  ................................ ................................ ................................ ................................ .........  50 \\nTasks of Computer Vision  ................................ ................................ ................................ ...........................  50 \\nAppl ication Domains of Computer Vision  ................................ ................................ ................................ ... 51 \\nApplications of Robotics  ................................ ................................ ................................ .............................  51 \\n10. NEURAL NETWORKS  ................................ ................................ ................................ ...............  53 \\nWhat are Artificial Neural Networks (ANNs)?  ................................ ................................ .............................  53 \\nBasic Structure of ANNs  ................................ ................................ ................................ ..............................  53 \\nTypes of Artificial Neural Networks  ................................ ................................ ................................ ............  54 \\nWorking of ANNs  ................................ ................................ ................................ ................................ ........  55 \\nMachine Learning in ANNs  ................................ ................................ ................................ .........................  55 \\nBaye sian Networks (BN)  ................................ ................................ ................................ .............................  56 \\nApplications of Neural Networks  ................................ ................................ ................................ ................  59 \\n11. AI ISSUES  ................................ ................................ ................................ ................................  61 \\n12. AI TERMINOLOGY  ................................ ................................ ................................ ...................  62 \\n Artificial Intelligence   \\n  6 Since the invention of computers or machines, their capability to perform various tasks went \\non growing exponentially. Humans have developed the power of computer systems in terms \\nof their diverse working domains, their increasing speed, and reducing size with respect to \\ntime.  \\nA branch of C omputer Science named Artificial Intelligence  pursues  creating the computers \\nor machines as intelligent as human beings . \\nWhat is Artificial Intelligence?  \\nAccording to  the father of A rtificial Intelligence  John McCarthy , it is “The science and \\nengineering o f making intelligent machines, especially intelligent computer programs”.  \\nArtificial Intelligence is a way of making a  computer,  a computer -controlled robot, or a \\nsoftware think intelligently , in the similar manner the intelligent humans think.  \\nAI is accomplished by studying how human brain thinks,  and how humans  learn, decide, and \\nwork while trying to solve a problem , and then using the outcomes of this study as a basis of \\ndeveloping intelligent software and systems . \\nPhilosophy of AI  \\nWhile exploiting the power of the computer systems, the  curiosity of human, lead him to \\nwonder, “Can a machine think and behave like humans do?”  \\nThus, the development of AI started with the intention of creating similar intelligence in \\nmachines that we find and regard hig h in humans.    \\nGoals of AI  \\n\\uf0b7 To Creat e Expert Systems : The systems whi ch exhibit  intelligent behavior, learn, \\ndemonstrate, explain, and advice its users.  \\n\\uf0b7 To Implement  Human Intelligence  in Machines : Creating systems that \\nunderstand, think , learn, and behave  like humans.  \\n \\n 1. Overview  of AI  Artificial Intelligence   \\n  7 What Contributes to AI? \\nArtificial intelligence is a science and technology based on disciplines such as Computer \\nScience, Biology, Psychology, Linguistics, Mathematics, and Engineering. A major thrust of AI \\nis in the development of compute r functions associated with human intelligence, such as \\nreasoning, learning, and problem solving.  \\nOut of the following areas, one or multiple areas can contribute to build an intelligent system.  \\n \\nProgramming W ithout and With AI  \\nThe programming without and with AI is different in following ways:  \\nProgramming Without AI  Programming With AI  \\nA computer program without AI can \\nanswer the specific  questions it is meant \\nto solve.  A computer program with  AI can answer the \\ngeneric  questions it is meant to solve.  \\nModification in the program leads to \\nchange in its structure . AI programs can absorb new modifications by \\nputting highly independent pieces of \\ninformation  together. Hence you can modify \\neven a minute piece of information of program \\nwithout affecting its structure.  \\nModification is not quick  and easy.  It may \\nlead to affecting the program adversely.  Quick and Easy program modification.  \\nArtificial Intelligence   \\n  8 What is AI T echnique?  \\nIn the  real world , the knowledge has some unwelcomed properties:  \\n\\uf0b7 Its volume is huge, next to unimaginable.  \\n\\uf0b7 It is not well -organized or well -formatted.  \\n\\uf0b7 It keeps changing constantly.  \\nAI Technique is a manner to organize and use the knowledge efficiently in such a way that:  \\n\\uf0b7 It should be perceiv able by the people who provide it.  \\n\\uf0b7 It should be easily modifi able to correct errors.  \\n\\uf0b7 It should be u seful in many situations though it is incomplete or inaccurate.  \\nAI techniques elevate  the speed of execution of the complex program  it is equipped with .  \\nApplications of AI  \\nAI has been dominant  in various fields such as : \\n\\uf0b7 Gaming \\nAI plays crucial role in strategic games such as chess, poker, tic -tac-toe, etc., where \\nmachine can think of  large number of possible positions based on heuristic knowledge.   \\n\\uf0b7 Natural Language  Processing  \\nIt is possible to interact with the computer that understands natural language spoken \\nby humans.  \\n\\uf0b7 Expert Systems  \\nThere are some applications which integrate machine, software , and special \\ninformation to impart reasoning and advising. They provide explanati on and advice to \\nthe users.  \\n\\uf0b7 Vision Systems  \\nThese systems  understand, interpret , and comprehend  visual input on the computer . \\nFor example,  \\no A spying aeroplane  takes photographs which are used to figure out spatial \\ninformation or map of the areas.  \\no Doctors use clinical expert  system to diagnos e the patient.  \\no Police use computer software that can recognize the face of criminal with the \\nstored portrait made by forensic artist . \\n \\n Artificial Intelligence   \\n  9 \\uf0b7 Speech R ecognition  \\nSome intelligent system s are capable of hea ring and comprehend ing the language  in \\nterms of sentences and their meanings  while a human talk s to it. It can handle different \\naccents, slang words, noise in the background, change in human’s noise due to cold, \\netc.  \\n \\n\\uf0b7 Handwriting R ecognition  \\nThe handwriting recognition software reads the text written on paper by a pen or on \\nscreen by a stylus . It can recogniz e the shapes of the letters and convert it into editable \\ntext. \\n \\n\\uf0b7 Intelligent Robots  \\nRobots are able to perform t he task s given by a human. They have sensors  to detect \\nphysical data from the real world  such as  light, heat, temperature, movement, sound, \\nbump, and pressure . They have efficient  processors , multiple sensors and huge \\nmemory , to exhibit i ntelligence. In addition, they are capable of learning from their \\nmistakes and they can adapt to the new environment.  \\nHistory of AI  \\nHere is the history of AI during 20th century:  \\nYear  Milestone  / Innovation  \\n1923 Karel Čapek ’s play named “ Rossum\\'s Universal Robots ” (RUR) opens in London, \\nfirst use of the word \"robot\" in English . \\n1943 Foundations for neural networks  laid. \\n1945 Isaac Asimov, a Columbia University alumni, coined the term Robotics.  \\n1950 Alan Turing introduced Turing Test for evaluation of intelligence and published \\nComputing Machinery and Intelligence.  Claude Shannon published Detailed \\nAnalysis of Chess Playing  as a search.  \\n1956 John McCarthy coined the term Artificial Intelligence . Demonstration of the first \\nrunning AI program at Carnegie Mellon University.  \\n1958 John McCarthy invents LISP programming language for AI . \\n1964 Danny Bobrow\\'s dissertation at MIT showed  that computers can understand \\nnatural language well enough to solve algebra word problems correctly.  \\n1965 Joseph Weizenbaum at MIT built ELIZA , an interactive problem that carries on \\na dialogue in English.  \\n1969 Scientists at Stanford Research Institute  Developed Shakey , a robot, equipped \\nwith locomotion, perception , and problem solving . Artificial Intelligence   \\n  10 1973  The Assembly Robotics group at Edinburgh University buil t Freddy , the Famous \\nScottish Robot, capable of using vision to locate and assemble models . \\n1979  The first computer -controlled autonomous vehicle, Stanford Cart , was built. \\n1985 \\n Harold Cohen created and demonstrated the drawing program, Aaron . \\n1990 Major advances in all areas of AI :  \\n\\uf0b7 Significant demonstrations in machine learning   \\n\\uf0b7 Case-based reasoning   \\n\\uf0b7 Multi-agent planning   \\n\\uf0b7 Scheduling   \\n\\uf0b7 Data mining , Web Crawler  \\n\\uf0b7 natural languag e understanding and translation  \\n\\uf0b7 Vision, Virtual Reality   \\n\\uf0b7 Games  \\n1997 The Deep Blue Chess Program beats the then world chess champion, Garry \\nKasparov . \\n2000 Interactive robot pets become commercially available. MIT displays Kismet , a \\nrobot with a face that expresses emotions. The robot Nomad  explores remote \\nregions of Antarctica and locates meteorites . \\n Artificial Intelligence   \\n  11 While studying artificially intelligence, you need to know what intelligence  is. This chapter \\ncovers Idea of intelligence, types, and components of intelligence.  \\nWhat is Intelligence?  \\nThe ability of a system to calculate, reason, perceive relationships and analogies, learn from \\nexperience, store and retrieve information from memory, solve problems, comprehend \\ncomplex ideas, use natural language fluently, classify, generalize, and adapt new situations.  \\nT ypes of Intelligence  \\nAs described by Howard Gardner, an American developmental psychologist, the Intelligence \\ncomes in multifold:  \\nIntel ligence  Description  Example  \\nLinguistic \\nintelligence  The ability to speak, recognize , and use  mechanisms \\nof phonology (speech sounds), syntax (grammar), \\nand semantics (meaning).  Narrators, Orators  \\nMusical intelligence  The ability to create, communicate  with, and \\nunderstand meanings made of sound, understanding \\nof pitch, rhythm.  Musicians, \\nSingers, \\nComposers  \\nLogical -\\nmathematical \\nintelligence  The ability of use and understand rel ationships in the \\nabsence of action or objects . Understanding complex \\nand abstract ideas.  Mathematicians, \\nScientists  \\nSpatial intelligence  The ability to perceive visual or spatial information, \\nchange it, and re -create visual images without \\nreference to the objects,  construct 3D images , and \\nto move and rotate th em. Map readers , \\nAstronauts, \\nPhysicists  \\nBodily -Kinesthetic \\nintelligence  The ability to use complete or part of the  body to \\nsolve problems or fashion products , control over fine \\nand coarse  motor skills,  and manipulate the objects.  Players, D ancers  \\nIntra-personal \\nintelligence  The ability to distinguish among one’s own feelings, \\nintentions, and motivations.  Gautam Buddha  2. Intelligen T Systems  Artificial Intelligence   \\n  12 Interpersonal \\nintelligence  The ability to recognize and make distinctions among \\nother people’s feelings, beliefs, and intentions.  Mass \\nCommunicato rs, \\nInterviewers  \\n \\nYou can say a  machine or a system is artificially intelligent  when it is equipped with  at \\nleast one and at most all intelligences in it.   \\n  Artificial Intelligence   \\n  13 End of ebook preview  \\nIf you liked what you saw…  \\nBuy it from our store @ https://store.tutorialspoint.com  \\n '"
            ],
            "application/vnd.google.colaboratory.intrinsic+json": {
              "type": "string"
            }
          },
          "metadata": {},
          "execution_count": 12
        }
      ]
    },
    {
      "cell_type": "code",
      "source": [
        "# initialize connection to the database\n",
        "cassio.init(token=ASTRA_DB_APPLICATION_TOKEN, database_id= ASTRA_DB_ID)"
      ],
      "metadata": {
        "colab": {
          "base_uri": "https://localhost:8080/"
        },
        "id": "9M0GeNwM2VEv",
        "outputId": "344926c1-5b77-443b-ef02-444f0d06ef7b"
      },
      "execution_count": null,
      "outputs": [
        {
          "output_type": "stream",
          "name": "stderr",
          "text": [
            "WARNING:cassandra.cluster:Downgrading core protocol version from 66 to 65 for 24218851-d4ea-4297-ade6-e06e2b638cb0-us-east1.db.astra.datastax.com:29042:783fb26a-3338-451b-b75b-783a6e89aea9. To avoid this, it is best practice to explicitly set Cluster(protocol_version) to the version supported by your cluster. http://datastax.github.io/python-driver/api/cassandra/cluster.html#cassandra.cluster.Cluster.protocol_version\n",
            "WARNING:cassandra.cluster:Downgrading core protocol version from 65 to 5 for 24218851-d4ea-4297-ade6-e06e2b638cb0-us-east1.db.astra.datastax.com:29042:783fb26a-3338-451b-b75b-783a6e89aea9. To avoid this, it is best practice to explicitly set Cluster(protocol_version) to the version supported by your cluster. http://datastax.github.io/python-driver/api/cassandra/cluster.html#cassandra.cluster.Cluster.protocol_version\n",
            "ERROR:cassandra.connection:Closing connection <AsyncoreConnection(135323092065760) 24218851-d4ea-4297-ade6-e06e2b638cb0-us-east1.db.astra.datastax.com:29042:783fb26a-3338-451b-b75b-783a6e89aea9> due to protocol error: Error from server: code=000a [Protocol error] message=\"Beta version of the protocol used (5/v5-beta), but USE_BETA flag is unset\"\n",
            "WARNING:cassandra.cluster:Downgrading core protocol version from 5 to 4 for 24218851-d4ea-4297-ade6-e06e2b638cb0-us-east1.db.astra.datastax.com:29042:783fb26a-3338-451b-b75b-783a6e89aea9. To avoid this, it is best practice to explicitly set Cluster(protocol_version) to the version supported by your cluster. http://datastax.github.io/python-driver/api/cassandra/cluster.html#cassandra.cluster.Cluster.protocol_version\n"
          ]
        }
      ]
    },
    {
      "cell_type": "code",
      "source": [
        "# create langchaiin embeddings and llm objects\n",
        "llm = OpenAI(openai_api_key = OPENAI_API_KEY)\n",
        "embedding = OpenAIEmbeddings(openai_api_key= OPENAI_API_KEY)"
      ],
      "metadata": {
        "id": "npq2I6Ob2rL-"
      },
      "execution_count": null,
      "outputs": []
    },
    {
      "cell_type": "code",
      "source": [
        "# langchain vector store creation(Backend by Astra DB )\n",
        "astra_vector_store = Cassandra(\n",
        "    embedding = embedding,\n",
        "    table_name = \"qa_mini_demo\",\n",
        "    session = None,\n",
        "    keyspace = None,\n",
        ")"
      ],
      "metadata": {
        "id": "-jGYFZ8F3JVK"
      },
      "execution_count": null,
      "outputs": []
    },
    {
      "cell_type": "code",
      "source": [
        "from langchain.text_splitter import CharacterTextSplitter\n",
        "\n",
        "# we need to split the text using character text splitter such that it should not increase token size\n",
        "text_splitter = CharacterTextSplitter(\n",
        "    separator = \"\\n\",\n",
        "    chunk_size = 800,\n",
        "    chunk_overlap = 200,\n",
        "    length_function = len,\n",
        ")\n",
        "texts = text_splitter.split_text(raw_text)"
      ],
      "metadata": {
        "id": "ssAOzc0j3iE6"
      },
      "execution_count": null,
      "outputs": []
    },
    {
      "cell_type": "code",
      "source": [
        "texts[:50]"
      ],
      "metadata": {
        "colab": {
          "base_uri": "https://localhost:8080/"
        },
        "id": "ENdCQLnS4cTb",
        "outputId": "696af0e1-d4e2-4225-ce5a-6d3f4dab2f7c"
      },
      "execution_count": null,
      "outputs": [
        {
          "output_type": "execute_result",
          "data": {
            "text/plain": [
              "['Artificial Intelligence   \\n  i About the T utorial  \\nThis tutorial provides introductory  knowledge on Artificial Intelligence. It would come to a \\ngreat help if you are about to select Artificial Intelligence as a course subject. You can briefly \\nknow about the areas of AI in which research is prospering.  \\nAudience  \\nThis tutorial is prepared for the students at beginner level who aspire to learn Artificial \\nIntelligence.  \\nPrerequisites  \\nThe basic knowledge of Computer Science is mandatory. The knowledge of Mathematics, \\nLanguages,  Science , Mechanical or Electrical engineering is a plus.  \\nDisclaimer & Copyright  \\n\\uf0e3 Copyright 201 5 by Tutorials Point (I) Pvt. Ltd.  \\nAll the content and graphics published in this e -book are the property of Tutorials Point (I)',\n",
              " 'Disclaimer & Copyright  \\n\\uf0e3 Copyright 201 5 by Tutorials Point (I) Pvt. Ltd.  \\nAll the content and graphics published in this e -book are the property of Tutorials Point (I) \\nPvt. Ltd.  The user of this e -book is prohibited to reuse, retain, copy, distribute or republish \\nany contents or a part of contents of this e -book in any manner without wri tten consent of \\nthe publisher.  \\nWe strive to update the contents of our website and tutorials as timely and as precisely as \\npossible, however,  the contents may contain inaccuracies or errors. Tutorials Point  (I) Pvt. \\nLtd. provides no guarantee regarding the accuracy, timeliness or completeness of our website \\nor its contents including this tutorial. If you discover any errors on our website or in this',\n",
              " 'Ltd. provides no guarantee regarding the accuracy, timeliness or completeness of our website \\nor its contents including this tutorial. If you discover any errors on our website or in this \\ntutorial, please notify us at contact@tutorialspoint.com . \\n  Artificial Intelligence   \\n  ii T able of Contents  \\nAbout the Tutorial  ................................ ................................ ................................ ................................ .........  i \\nAudience  ................................ ................................ ................................ ................................ .......................  i',\n",
              " 'Audience  ................................ ................................ ................................ ................................ .......................  i \\nPrerequisites  ................................ ................................ ................................ ................................ .................  i \\nDisclaimer & Copyright  ................................ ................................ ................................ ................................ .. i \\nTable of Contents  ................................ ................................ ................................ ................................ .........  ii',\n",
              " 'Table of Contents  ................................ ................................ ................................ ................................ .........  ii \\n1. OVERVIEW OF AI  ................................ ................................ ................................ ......................  1 \\nWhat is Artificial Intelligence?  ................................ ................................ ................................ ......................  1 \\nPhilosophy of AI  ................................ ................................ ................................ ................................ ...........  1',\n",
              " 'Philosophy of AI  ................................ ................................ ................................ ................................ ...........  1 \\nGoals of AI  ................................ ................................ ................................ ................................ ....................  1 \\nWhat Contributes to AI?  ................................ ................................ ................................ ...............................  2 \\nProgra mming Without and With AI  ................................ ................................ ................................ ..............  2',\n",
              " 'Progra mming Without and With AI  ................................ ................................ ................................ ..............  2 \\nWhat is AI Technique?  ................................ ................................ ................................ ................................ .. 3 \\nApplications of AI  ................................ ................................ ................................ ................................ .........  3 \\nHistory of AI  ................................ ................................ ................................ ................................ .................  4 \\n2. INTELLIGENT SYSTEMS  ................................ ................................ ................................ .............  6',\n",
              " '2. INTELLIGENT SYSTEMS  ................................ ................................ ................................ .............  6 \\nWhat i s Intelligence?  ................................ ................................ ................................ ................................ .... 6 \\nTypes of Intelligence ................................ ................................ ................................ ................................ ..... 6 \\nWhat is Intelligence Composed of?  ................................ ................................ ................................ ..............  7 \\nDifference between Human and Machine Intelligence  ................................ ................................ .................  9',\n",
              " 'Difference between Human and Machine Intelligence  ................................ ................................ .................  9 \\n3. RESEARCH AREAS OF AI  ................................ ................................ ................................ ..........  10 \\nReal Life Applications of Research Areas  ................................ ................................ ................................ .... 11 \\nTask Classification of AI  ................................ ................................ ................................ ..............................  12 Artificial Intelligence   \\n  iii 4. AGENTS AND ENVIRONME NTS ................................ ................................ ...............................  14',\n",
              " 'iii 4. AGENTS AND ENVIRONME NTS ................................ ................................ ...............................  14 \\nWhat are Agent and Environment?  ................................ ................................ ................................ ............  14 \\nAgents Terminology  ................................ ................................ ................................ ................................ ... 14 \\nRationality  ................................ ................................ ................................ ................................ ..................  15 \\nWhat is Ideal Rational Agent?  ................................ ................................ ................................ ....................  15',\n",
              " 'What is Ideal Rational Agent?  ................................ ................................ ................................ ....................  15 \\nThe Structure of Intelligent Agents  ................................ ................................ ................................ .............  15 \\nThe Nature of Environments  ................................ ................................ ................................ ......................  18 \\nProperties of Environment  ................................ ................................ ................................ .........................  19 \\n5. POPULAR SEARCH ALGOR ITHMS  ................................ ................................ ............................  20',\n",
              " '5. POPULAR SEARCH ALGOR ITHMS  ................................ ................................ ............................  20 \\nSingle Agent Pathfinding Problems ................................ ................................ ................................ .............  20 \\nSearch Terminology  ................................ ................................ ................................ ................................ .... 20 \\nBrute -Forc e Search Strategies  ................................ ................................ ................................ ....................  20 \\nInformed (Heuristic) Search Strategies  ................................ ................................ ................................ .......  23',\n",
              " 'Informed (Heuristic) Search Strategies  ................................ ................................ ................................ .......  23 \\nLocal Search Algorithms  ................................ ................................ ................................ .............................  24 \\n6. FUZZY LOGIC SYSTEMS  ................................ ................................ ................................ ...........  27 \\nWhat i s Fuzzy Logic?  ................................ ................................ ................................ ................................ ... 27 \\nWhy Fuzzy Logic?  ................................ ................................ ................................ ................................ ........  27',\n",
              " 'Why Fuzzy Logic?  ................................ ................................ ................................ ................................ ........  27 \\nFuzzy Logic Systems Architecture  ................................ ................................ ................................ ...............  28 \\nExample of a Fuzzy Logic System  ................................ ................................ ................................ ................  29 \\nApplication Areas of Fuzzy Logic  ................................ ................................ ................................ .................  32 \\nAdvantages of FLSs  ................................ ................................ ................................ ................................ ..... 33',\n",
              " 'Advantages of FLSs  ................................ ................................ ................................ ................................ ..... 33 \\nDisadvantages of FLSs  ................................ ................................ ................................ ................................  33 \\n Artificial Intelligence   \\n  iv 7. NATURAL LANGUAGE PRO CESSING  ................................ ................................ ........................  34 \\nComponents of NLP  ................................ ................................ ................................ ................................ .... 34',\n",
              " 'Components of NLP  ................................ ................................ ................................ ................................ .... 34 \\nDifficulties in NLU  ................................ ................................ ................................ ................................ .......  34 \\nNLP Terminology  ................................ ................................ ................................ ................................ ........  35 \\nSteps in NLP ................................ ................................ ................................ ................................ ................  35 \\nImplementation Aspects of Syntactic Analysis ................................ ................................ ............................  36',\n",
              " 'Implementation Aspects of Syntactic Analysis ................................ ................................ ............................  36 \\n8. EXPERT SYSTEMS ................................ ................................ ................................ ....................  40 \\nWhat are Expert Systems?  ................................ ................................ ................................ ..........................  40 \\nCapa bilities of Expert Systems  ................................ ................................ ................................ ....................  40 \\nComponents of Expert Systems  ................................ ................................ ................................ ..................  41',\n",
              " 'Components of Expert Systems  ................................ ................................ ................................ ..................  41 \\nKnowledge Base  ................................ ................................ ................................ ................................ .........  41 \\nInference Engi ne ................................ ................................ ................................ ................................ .........  42 \\nUser Interface  ................................ ................................ ................................ ................................ .............  43',\n",
              " 'User Interface  ................................ ................................ ................................ ................................ .............  43 \\nExpert Systems Limitations ................................ ................................ ................................ .........................  44 \\nApplications of Expert System  ................................ ................................ ................................ ....................  44 \\nExpert System Technology  ................................ ................................ ................................ ..........................  45 \\nDevelopmen t of Expert Systems: General Steps  ................................ ................................ .........................  45',\n",
              " 'Developmen t of Expert Systems: General Steps  ................................ ................................ .........................  45 \\nBenefits of Expert Systems  ................................ ................................ ................................ .........................  46 \\n9. ROBOTICS  ................................ ................................ ................................ ..............................  47 \\nWhat are Robots?  ................................ ................................ ................................ ................................ .......  47 \\nWhat is Robotics?  ................................ ................................ ................................ ................................ .......  47',\n",
              " 'What is Robotics?  ................................ ................................ ................................ ................................ .......  47 \\nDifference in Robot System and Other AI Program  ................................ ................................ .....................  47 \\nRobot Locomotion  ................................ ................................ ................................ ................................ ...... 48 \\nComponents of a Robot  ................................ ................................ ................................ ..............................  50 Artificial Intelligence',\n",
              " 'Components of a Robot  ................................ ................................ ................................ ..............................  50 Artificial Intelligence   \\n  v Computer Vision  ................................ ................................ ................................ ................................ .........  50 \\nTasks of Computer Vision  ................................ ................................ ................................ ...........................  50 \\nAppl ication Domains of Computer Vision  ................................ ................................ ................................ ... 51',\n",
              " 'Appl ication Domains of Computer Vision  ................................ ................................ ................................ ... 51 \\nApplications of Robotics  ................................ ................................ ................................ .............................  51 \\n10. NEURAL NETWORKS  ................................ ................................ ................................ ...............  53 \\nWhat are Artificial Neural Networks (ANNs)?  ................................ ................................ .............................  53 \\nBasic Structure of ANNs  ................................ ................................ ................................ ..............................  53',\n",
              " 'Basic Structure of ANNs  ................................ ................................ ................................ ..............................  53 \\nTypes of Artificial Neural Networks  ................................ ................................ ................................ ............  54 \\nWorking of ANNs  ................................ ................................ ................................ ................................ ........  55 \\nMachine Learning in ANNs  ................................ ................................ ................................ .........................  55 \\nBaye sian Networks (BN)  ................................ ................................ ................................ .............................  56',\n",
              " 'Baye sian Networks (BN)  ................................ ................................ ................................ .............................  56 \\nApplications of Neural Networks  ................................ ................................ ................................ ................  59 \\n11. AI ISSUES  ................................ ................................ ................................ ................................  61 \\n12. AI TERMINOLOGY  ................................ ................................ ................................ ...................  62 \\n Artificial Intelligence   \\n  6 Since the invention of computers or machines, their capability to perform various tasks went',\n",
              " 'Artificial Intelligence   \\n  6 Since the invention of computers or machines, their capability to perform various tasks went \\non growing exponentially. Humans have developed the power of computer systems in terms \\nof their diverse working domains, their increasing speed, and reducing size with respect to \\ntime.  \\nA branch of C omputer Science named Artificial Intelligence  pursues  creating the computers \\nor machines as intelligent as human beings . \\nWhat is Artificial Intelligence?  \\nAccording to  the father of A rtificial Intelligence  John McCarthy , it is “The science and \\nengineering o f making intelligent machines, especially intelligent computer programs”.  \\nArtificial Intelligence is a way of making a  computer,  a computer -controlled robot, or a',\n",
              " 'engineering o f making intelligent machines, especially intelligent computer programs”.  \\nArtificial Intelligence is a way of making a  computer,  a computer -controlled robot, or a \\nsoftware think intelligently , in the similar manner the intelligent humans think.  \\nAI is accomplished by studying how human brain thinks,  and how humans  learn, decide, and \\nwork while trying to solve a problem , and then using the outcomes of this study as a basis of \\ndeveloping intelligent software and systems . \\nPhilosophy of AI  \\nWhile exploiting the power of the computer systems, the  curiosity of human, lead him to \\nwonder, “Can a machine think and behave like humans do?”  \\nThus, the development of AI started with the intention of creating similar intelligence in',\n",
              " 'wonder, “Can a machine think and behave like humans do?”  \\nThus, the development of AI started with the intention of creating similar intelligence in \\nmachines that we find and regard hig h in humans.    \\nGoals of AI  \\n\\uf0b7 To Creat e Expert Systems : The systems whi ch exhibit  intelligent behavior, learn, \\ndemonstrate, explain, and advice its users.  \\n\\uf0b7 To Implement  Human Intelligence  in Machines : Creating systems that \\nunderstand, think , learn, and behave  like humans.  \\n \\n 1. Overview  of AI  Artificial Intelligence   \\n  7 What Contributes to AI? \\nArtificial intelligence is a science and technology based on disciplines such as Computer \\nScience, Biology, Psychology, Linguistics, Mathematics, and Engineering. A major thrust of AI',\n",
              " 'Artificial intelligence is a science and technology based on disciplines such as Computer \\nScience, Biology, Psychology, Linguistics, Mathematics, and Engineering. A major thrust of AI \\nis in the development of compute r functions associated with human intelligence, such as \\nreasoning, learning, and problem solving.  \\nOut of the following areas, one or multiple areas can contribute to build an intelligent system.  \\n \\nProgramming W ithout and With AI  \\nThe programming without and with AI is different in following ways:  \\nProgramming Without AI  Programming With AI  \\nA computer program without AI can \\nanswer the specific  questions it is meant \\nto solve.  A computer program with  AI can answer the \\ngeneric  questions it is meant to solve.  \\nModification in the program leads to',\n",
              " 'answer the specific  questions it is meant \\nto solve.  A computer program with  AI can answer the \\ngeneric  questions it is meant to solve.  \\nModification in the program leads to \\nchange in its structure . AI programs can absorb new modifications by \\nputting highly independent pieces of \\ninformation  together. Hence you can modify \\neven a minute piece of information of program \\nwithout affecting its structure.  \\nModification is not quick  and easy.  It may \\nlead to affecting the program adversely.  Quick and Easy program modification.  \\nArtificial Intelligence   \\n  8 What is AI T echnique?  \\nIn the  real world , the knowledge has some unwelcomed properties:  \\n\\uf0b7 Its volume is huge, next to unimaginable.  \\n\\uf0b7 It is not well -organized or well -formatted.  \\n\\uf0b7 It keeps changing constantly.',\n",
              " 'In the  real world , the knowledge has some unwelcomed properties:  \\n\\uf0b7 Its volume is huge, next to unimaginable.  \\n\\uf0b7 It is not well -organized or well -formatted.  \\n\\uf0b7 It keeps changing constantly.  \\nAI Technique is a manner to organize and use the knowledge efficiently in such a way that:  \\n\\uf0b7 It should be perceiv able by the people who provide it.  \\n\\uf0b7 It should be easily modifi able to correct errors.  \\n\\uf0b7 It should be u seful in many situations though it is incomplete or inaccurate.  \\nAI techniques elevate  the speed of execution of the complex program  it is equipped with .  \\nApplications of AI  \\nAI has been dominant  in various fields such as : \\n\\uf0b7 Gaming \\nAI plays crucial role in strategic games such as chess, poker, tic -tac-toe, etc., where',\n",
              " 'Applications of AI  \\nAI has been dominant  in various fields such as : \\n\\uf0b7 Gaming \\nAI plays crucial role in strategic games such as chess, poker, tic -tac-toe, etc., where \\nmachine can think of  large number of possible positions based on heuristic knowledge.   \\n\\uf0b7 Natural Language  Processing  \\nIt is possible to interact with the computer that understands natural language spoken \\nby humans.  \\n\\uf0b7 Expert Systems  \\nThere are some applications which integrate machine, software , and special \\ninformation to impart reasoning and advising. They provide explanati on and advice to \\nthe users.  \\n\\uf0b7 Vision Systems  \\nThese systems  understand, interpret , and comprehend  visual input on the computer . \\nFor example,  \\no A spying aeroplane  takes photographs which are used to figure out spatial',\n",
              " '\\uf0b7 Vision Systems  \\nThese systems  understand, interpret , and comprehend  visual input on the computer . \\nFor example,  \\no A spying aeroplane  takes photographs which are used to figure out spatial \\ninformation or map of the areas.  \\no Doctors use clinical expert  system to diagnos e the patient.  \\no Police use computer software that can recognize the face of criminal with the \\nstored portrait made by forensic artist . \\n \\n Artificial Intelligence   \\n  9 \\uf0b7 Speech R ecognition  \\nSome intelligent system s are capable of hea ring and comprehend ing the language  in \\nterms of sentences and their meanings  while a human talk s to it. It can handle different \\naccents, slang words, noise in the background, change in human’s noise due to cold, \\netc.  \\n \\n\\uf0b7 Handwriting R ecognition',\n",
              " 'accents, slang words, noise in the background, change in human’s noise due to cold, \\netc.  \\n \\n\\uf0b7 Handwriting R ecognition  \\nThe handwriting recognition software reads the text written on paper by a pen or on \\nscreen by a stylus . It can recogniz e the shapes of the letters and convert it into editable \\ntext. \\n \\n\\uf0b7 Intelligent Robots  \\nRobots are able to perform t he task s given by a human. They have sensors  to detect \\nphysical data from the real world  such as  light, heat, temperature, movement, sound, \\nbump, and pressure . They have efficient  processors , multiple sensors and huge \\nmemory , to exhibit i ntelligence. In addition, they are capable of learning from their \\nmistakes and they can adapt to the new environment.  \\nHistory of AI  \\nHere is the history of AI during 20th century:',\n",
              " 'mistakes and they can adapt to the new environment.  \\nHistory of AI  \\nHere is the history of AI during 20th century:  \\nYear  Milestone  / Innovation  \\n1923 Karel Čapek ’s play named “ Rossum\\'s Universal Robots ” (RUR) opens in London, \\nfirst use of the word \"robot\" in English . \\n1943 Foundations for neural networks  laid. \\n1945 Isaac Asimov, a Columbia University alumni, coined the term Robotics.  \\n1950 Alan Turing introduced Turing Test for evaluation of intelligence and published \\nComputing Machinery and Intelligence.  Claude Shannon published Detailed \\nAnalysis of Chess Playing  as a search.  \\n1956 John McCarthy coined the term Artificial Intelligence . Demonstration of the first \\nrunning AI program at Carnegie Mellon University.',\n",
              " \"Analysis of Chess Playing  as a search.  \\n1956 John McCarthy coined the term Artificial Intelligence . Demonstration of the first \\nrunning AI program at Carnegie Mellon University.  \\n1958 John McCarthy invents LISP programming language for AI . \\n1964 Danny Bobrow's dissertation at MIT showed  that computers can understand \\nnatural language well enough to solve algebra word problems correctly.  \\n1965 Joseph Weizenbaum at MIT built ELIZA , an interactive problem that carries on \\na dialogue in English.  \\n1969 Scientists at Stanford Research Institute  Developed Shakey , a robot, equipped \\nwith locomotion, perception , and problem solving . Artificial Intelligence   \\n  10 1973  The Assembly Robotics group at Edinburgh University buil t Freddy , the Famous\",\n",
              " 'with locomotion, perception , and problem solving . Artificial Intelligence   \\n  10 1973  The Assembly Robotics group at Edinburgh University buil t Freddy , the Famous \\nScottish Robot, capable of using vision to locate and assemble models . \\n1979  The first computer -controlled autonomous vehicle, Stanford Cart , was built. \\n1985 \\n Harold Cohen created and demonstrated the drawing program, Aaron . \\n1990 Major advances in all areas of AI :  \\n\\uf0b7 Significant demonstrations in machine learning   \\n\\uf0b7 Case-based reasoning   \\n\\uf0b7 Multi-agent planning   \\n\\uf0b7 Scheduling   \\n\\uf0b7 Data mining , Web Crawler  \\n\\uf0b7 natural languag e understanding and translation  \\n\\uf0b7 Vision, Virtual Reality   \\n\\uf0b7 Games  \\n1997 The Deep Blue Chess Program beats the then world chess champion, Garry \\nKasparov .',\n",
              " '\\uf0b7 natural languag e understanding and translation  \\n\\uf0b7 Vision, Virtual Reality   \\n\\uf0b7 Games  \\n1997 The Deep Blue Chess Program beats the then world chess champion, Garry \\nKasparov . \\n2000 Interactive robot pets become commercially available. MIT displays Kismet , a \\nrobot with a face that expresses emotions. The robot Nomad  explores remote \\nregions of Antarctica and locates meteorites . \\n Artificial Intelligence   \\n  11 While studying artificially intelligence, you need to know what intelligence  is. This chapter \\ncovers Idea of intelligence, types, and components of intelligence.  \\nWhat is Intelligence?  \\nThe ability of a system to calculate, reason, perceive relationships and analogies, learn from \\nexperience, store and retrieve information from memory, solve problems, comprehend',\n",
              " 'The ability of a system to calculate, reason, perceive relationships and analogies, learn from \\nexperience, store and retrieve information from memory, solve problems, comprehend \\ncomplex ideas, use natural language fluently, classify, generalize, and adapt new situations.  \\nT ypes of Intelligence  \\nAs described by Howard Gardner, an American developmental psychologist, the Intelligence \\ncomes in multifold:  \\nIntel ligence  Description  Example  \\nLinguistic \\nintelligence  The ability to speak, recognize , and use  mechanisms \\nof phonology (speech sounds), syntax (grammar), \\nand semantics (meaning).  Narrators, Orators  \\nMusical intelligence  The ability to create, communicate  with, and \\nunderstand meanings made of sound, understanding \\nof pitch, rhythm.  Musicians, \\nSingers, \\nComposers',\n",
              " 'Musical intelligence  The ability to create, communicate  with, and \\nunderstand meanings made of sound, understanding \\nof pitch, rhythm.  Musicians, \\nSingers, \\nComposers  \\nLogical -\\nmathematical \\nintelligence  The ability of use and understand rel ationships in the \\nabsence of action or objects . Understanding complex \\nand abstract ideas.  Mathematicians, \\nScientists  \\nSpatial intelligence  The ability to perceive visual or spatial information, \\nchange it, and re -create visual images without \\nreference to the objects,  construct 3D images , and \\nto move and rotate th em. Map readers , \\nAstronauts, \\nPhysicists  \\nBodily -Kinesthetic \\nintelligence  The ability to use complete or part of the  body to \\nsolve problems or fashion products , control over fine',\n",
              " 'Astronauts, \\nPhysicists  \\nBodily -Kinesthetic \\nintelligence  The ability to use complete or part of the  body to \\nsolve problems or fashion products , control over fine \\nand coarse  motor skills,  and manipulate the objects.  Players, D ancers  \\nIntra-personal \\nintelligence  The ability to distinguish among one’s own feelings, \\nintentions, and motivations.  Gautam Buddha  2. Intelligen T Systems  Artificial Intelligence   \\n  12 Interpersonal \\nintelligence  The ability to recognize and make distinctions among \\nother people’s feelings, beliefs, and intentions.  Mass \\nCommunicato rs, \\nInterviewers  \\n \\nYou can say a  machine or a system is artificially intelligent  when it is equipped with  at \\nleast one and at most all intelligences in it.   \\n  Artificial Intelligence',\n",
              " 'Interviewers  \\n \\nYou can say a  machine or a system is artificially intelligent  when it is equipped with  at \\nleast one and at most all intelligences in it.   \\n  Artificial Intelligence   \\n  13 End of ebook preview  \\nIf you liked what you saw…  \\nBuy it from our store @ https://store.tutorialspoint.com']"
            ]
          },
          "metadata": {},
          "execution_count": 21
        }
      ]
    },
    {
      "cell_type": "code",
      "source": [
        "# load the dataset into the vector db/store\n",
        "astra_vector_store.add_texts(texts[:50])\n",
        "print(\"Inserted %i headlines.\" % len(texts[:50]))\n",
        "astra_vector_index = VectorStoreIndexWrapper(vectorstore=astra_vector_store)"
      ],
      "metadata": {
        "colab": {
          "base_uri": "https://localhost:8080/"
        },
        "id": "5DFquBF64fKi",
        "outputId": "15bf6995-3199-40c7-c819-5ac4cc473935"
      },
      "execution_count": null,
      "outputs": [
        {
          "output_type": "stream",
          "name": "stdout",
          "text": [
            "Inserted 42 headlines.\n"
          ]
        }
      ]
    },
    {
      "cell_type": "code",
      "source": [
        "# Running the QA Cycle\n",
        "first_question = True\n",
        "while True:\n",
        "    if first_question:\n",
        "        query_text = input(\"\\nEnter your question (or type 'quit' to exit): \").strip()\n",
        "    else:\n",
        "        query_text = input(\"\\nWhat's your next question (or type 'quit' to exit): \").strip()\n",
        "\n",
        "    if query_text.lower() == \"quit\":\n",
        "        break\n",
        "\n",
        "    if query_text == \"\":\n",
        "        continue\n",
        "\n",
        "    first_question = False\n",
        "\n",
        "    print(\"\\nQUESTION: \\\"%s\\\"\" % query_text)\n",
        "    answer = astra_vector_index.query(query_text, llm=llm).strip()\n",
        "    print(\"ANSWER: \\\"%s\\\"\\n\" % answer)\n",
        "\n",
        "    print(\"FIRST DOCUMENTS BY RELEVANCE:\")\n",
        "    for doc, score in astra_vector_store.similarity_search_with_score(query_text, k=4):\n",
        "        print(\"    [%0.4f] \\\"%s ...\\\"\" % (score, doc.page_content[:84]))"
      ],
      "metadata": {
        "colab": {
          "base_uri": "https://localhost:8080/"
        },
        "id": "hzlcduoj5Lrc",
        "outputId": "158baa5e-2bcd-465d-a54d-581ec799359b"
      },
      "execution_count": null,
      "outputs": [
        {
          "output_type": "stream",
          "name": "stdout",
          "text": [
            "\n",
            "Enter your question (or type 'quit' to exit): how would you differ AI from ml?\n",
            "\n",
            "QUESTION: \"how would you differ AI from ml?\"\n"
          ]
        },
        {
          "output_type": "stream",
          "name": "stderr",
          "text": [
            "WARNING:cassandra.protocol:Server warning: Top-K queries can only be run with consistency level ONE / LOCAL_ONE / NODE_LOCAL. Consistency level LOCAL_QUORUM was requested. Downgrading the consistency level to LOCAL_ONE.\n",
            "WARNING:cassandra.protocol:Server warning: Top-K queries can only be run with consistency level ONE / LOCAL_ONE / NODE_LOCAL. Consistency level LOCAL_QUORUM was requested. Downgrading the consistency level to LOCAL_ONE.\n"
          ]
        },
        {
          "output_type": "stream",
          "name": "stdout",
          "text": [
            "ANSWER: \"Artificial Intelligence (AI) and Machine Learning (ML) are closely related, but they are not the same thing. AI is an umbrella term that covers a wide range of technologies, including ML. AI is the broader concept of machines being able to carry out tasks in a way that we would consider “smart”. On the other hand, ML is a specific type of AI that enables machines to learn from their environment and improve their performance without explicit programming. AI is focused on creating systems that can reason and make decisions, while ML is focused on creating systems that can learn and improve from data.\"\n",
            "\n",
            "FIRST DOCUMENTS BY RELEVANCE:\n",
            "    [0.9157] \"Applications of AI  \n",
            "AI has been dominant  in various fields such as : \n",
            " Gaming \n",
            "AI ...\"\n",
            "    [0.9142] \"Difference between Human and Machine Intelligence  ................................  ...\"\n",
            "    [0.9122] \"answer the specific  questions it is meant \n",
            "to solve.  A computer program with  AI c ...\"\n",
            "    [0.9121] \"Artificial intelligence is a science and technology based on disciplines such as Com ...\"\n",
            "\n",
            "What's your next question (or type 'quit' to exit): what do you know abut robotics?\n",
            "\n",
            "QUESTION: \"what do you know abut robotics?\"\n"
          ]
        },
        {
          "output_type": "stream",
          "name": "stderr",
          "text": [
            "WARNING:cassandra.protocol:Server warning: Top-K queries can only be run with consistency level ONE / LOCAL_ONE / NODE_LOCAL. Consistency level LOCAL_QUORUM was requested. Downgrading the consistency level to LOCAL_ONE.\n",
            "WARNING:cassandra.protocol:Server warning: Top-K queries can only be run with consistency level ONE / LOCAL_ONE / NODE_LOCAL. Consistency level LOCAL_QUORUM was requested. Downgrading the consistency level to LOCAL_ONE.\n"
          ]
        },
        {
          "output_type": "stream",
          "name": "stdout",
          "text": [
            "ANSWER: \"Robotics is the branch of engineering and computer science that deals with the design, construction, operation, and use of robots, as well as computer systems for their control, sensory feedback, and information processing. It includes the study of how robots move and interact with their environment, and how they are programmed to think and act. Common components of robots include locomotion, perception, problem solving, and artificial intelligence. Robot applications include a wide range of activities from manufacturing and assembly to exploration and remote surgery.\"\n",
            "\n",
            "FIRST DOCUMENTS BY RELEVANCE:\n",
            "    [0.9179] \"What is Robotics?  ................................ ................................ ...\"\n",
            "    [0.9097] \"Components of a Robot  ................................ ............................ ...\"\n",
            "    [0.9087] \"with locomotion, perception , and problem solving . Artificial Intelligence   \n",
            "  10  ...\"\n",
            "    [0.9029] \" natural languag e understanding and translation  \n",
            " Vision, Virtual Reality   \n",
            " G ...\"\n",
            "\n",
            "What's your next question (or type 'quit' to exit): thank you\n",
            "\n",
            "QUESTION: \"thank you\"\n"
          ]
        },
        {
          "output_type": "stream",
          "name": "stderr",
          "text": [
            "WARNING:cassandra.protocol:Server warning: Top-K queries can only be run with consistency level ONE / LOCAL_ONE / NODE_LOCAL. Consistency level LOCAL_QUORUM was requested. Downgrading the consistency level to LOCAL_ONE.\n",
            "WARNING:cassandra.protocol:Server warning: Top-K queries can only be run with consistency level ONE / LOCAL_ONE / NODE_LOCAL. Consistency level LOCAL_QUORUM was requested. Downgrading the consistency level to LOCAL_ONE.\n"
          ]
        },
        {
          "name": "stdout",
          "output_type": "stream",
          "text": [
            "ANSWER: \"You're welcome!\"\n",
            "\n",
            "FIRST DOCUMENTS BY RELEVANCE:\n",
            "    [0.8628] \"Ltd. provides no guarantee regarding the accuracy, timeliness or completeness of our ...\"\n",
            "    [0.8598] \"Audience  ................................ ................................ ........ ...\"\n",
            "    [0.8597] \"Disclaimer & Copyright  \n",
            " Copyright 201 5 by Tutorials Point (I) Pvt. Ltd.  \n",
            "All th ...\"\n",
            "    [0.8574] \" natural languag e understanding and translation  \n",
            " Vision, Virtual Reality   \n",
            " G ...\"\n",
            "\n",
            "What's your next question (or type 'quit' to exit): quit\n"
          ]
        }
      ]
    }
  ]
}
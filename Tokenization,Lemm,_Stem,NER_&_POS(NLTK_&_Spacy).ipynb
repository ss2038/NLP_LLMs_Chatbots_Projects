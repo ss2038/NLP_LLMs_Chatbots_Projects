{
  "nbformat": 4,
  "nbformat_minor": 0,
  "metadata": {
    "colab": {
      "provenance": []
    },
    "kernelspec": {
      "name": "python3",
      "display_name": "Python 3"
    },
    "language_info": {
      "name": "python"
    }
  },
  "cells": [
    {
      "cell_type": "markdown",
      "source": [
        "# Spacy"
      ],
      "metadata": {
        "id": "Sg7oGhT3bs2B"
      }
    },
    {
      "cell_type": "code",
      "execution_count": null,
      "metadata": {
        "id": "TjUsJoV5ZxB2"
      },
      "outputs": [],
      "source": [
        "import spacy"
      ]
    },
    {
      "cell_type": "markdown",
      "source": [
        "## Sentence Tokenization"
      ],
      "metadata": {
        "id": "hZdOXXXDblxp"
      }
    },
    {
      "cell_type": "code",
      "source": [
        "nlp = spacy.load(\"en_core_web_sm\")\n",
        "\n",
        "doc = nlp(\"My name is Mr. Waqas Ahmed. I love doing coding and hanging out with my friends.\")\n",
        "\n",
        "for sentence in doc.sents:\n",
        "  print(sentence)"
      ],
      "metadata": {
        "colab": {
          "base_uri": "https://localhost:8080/"
        },
        "id": "HbpBPg3FZ3X8",
        "outputId": "2b75393c-bab3-49e6-eb6b-d6ca46ad2e1a"
      },
      "execution_count": null,
      "outputs": [
        {
          "output_type": "stream",
          "name": "stdout",
          "text": [
            "My name is Mr. Waqas Ahmed.\n",
            "I love doing coding and hanging out with my friends.\n"
          ]
        }
      ]
    },
    {
      "cell_type": "markdown",
      "source": [
        "## Word Tokenization"
      ],
      "metadata": {
        "id": "XqmGF2qwbosp"
      }
    },
    {
      "cell_type": "code",
      "source": [
        "for sentence in doc.sents:\n",
        "  for word in sentence:\n",
        "    print(word)"
      ],
      "metadata": {
        "colab": {
          "base_uri": "https://localhost:8080/"
        },
        "id": "0xu-hbETZ-j_",
        "outputId": "0a31852b-a47b-42ba-acd4-d0861e8ac8ab"
      },
      "execution_count": null,
      "outputs": [
        {
          "output_type": "stream",
          "name": "stdout",
          "text": [
            "My\n",
            "name\n",
            "is\n",
            "Mr.\n",
            "Waqas\n",
            "Ahmed\n",
            ".\n",
            "I\n",
            "love\n",
            "doing\n",
            "coding\n",
            "and\n",
            "hanging\n",
            "out\n",
            "with\n",
            "my\n",
            "friends\n",
            ".\n"
          ]
        }
      ]
    },
    {
      "cell_type": "markdown",
      "source": [
        "# NLTK"
      ],
      "metadata": {
        "id": "Qbhf0a9ibu46"
      }
    },
    {
      "cell_type": "code",
      "source": [
        "import nltk\n",
        "nltk.download('punkt')"
      ],
      "metadata": {
        "colab": {
          "base_uri": "https://localhost:8080/"
        },
        "id": "VrwLps93bhSy",
        "outputId": "4857b46e-666c-4200-b3fa-b59d603f9dad"
      },
      "execution_count": null,
      "outputs": [
        {
          "output_type": "stream",
          "name": "stderr",
          "text": [
            "[nltk_data] Downloading package punkt to /root/nltk_data...\n",
            "[nltk_data]   Package punkt is already up-to-date!\n"
          ]
        },
        {
          "output_type": "execute_result",
          "data": {
            "text/plain": [
              "True"
            ]
          },
          "metadata": {},
          "execution_count": 15
        }
      ]
    },
    {
      "cell_type": "markdown",
      "source": [
        "## Sentence Tokenization"
      ],
      "metadata": {
        "id": "9QQvzUzDdvsi"
      }
    },
    {
      "cell_type": "code",
      "source": [
        "from nltk.tokenize import sent_tokenize\n",
        "\n",
        "sent_tokenize(\"My name is Mr. Waqas Ahmed. I love doing coding and hanging out with my friends.\")"
      ],
      "metadata": {
        "colab": {
          "base_uri": "https://localhost:8080/"
        },
        "id": "J_JtJLpDbxzX",
        "outputId": "4b5c22a7-7dff-490b-c9e3-2f3aad704527"
      },
      "execution_count": null,
      "outputs": [
        {
          "output_type": "execute_result",
          "data": {
            "text/plain": [
              "['My name is Mr. Waqas Ahmed.',\n",
              " 'I love doing coding and hanging out with my friends.']"
            ]
          },
          "metadata": {},
          "execution_count": 16
        }
      ]
    },
    {
      "cell_type": "markdown",
      "source": [
        "## Word Tokenization"
      ],
      "metadata": {
        "id": "KL9Ytp9Mdy4d"
      }
    },
    {
      "cell_type": "code",
      "source": [
        "from nltk.tokenize import word_tokenize\n",
        "\n",
        "word_tokenize(\"My name is Mr. Waqas Ahmed. I love doing coding and hanging out with my friends.\")"
      ],
      "metadata": {
        "colab": {
          "base_uri": "https://localhost:8080/"
        },
        "id": "_E7qsodAdg8D",
        "outputId": "114bc44c-cf60-43f2-940e-10243c1cfea2"
      },
      "execution_count": null,
      "outputs": [
        {
          "output_type": "execute_result",
          "data": {
            "text/plain": [
              "['My',\n",
              " 'name',\n",
              " 'is',\n",
              " 'Mr.',\n",
              " 'Waqas',\n",
              " 'Ahmed',\n",
              " '.',\n",
              " 'I',\n",
              " 'love',\n",
              " 'doing',\n",
              " 'coding',\n",
              " 'and',\n",
              " 'hanging',\n",
              " 'out',\n",
              " 'with',\n",
              " 'my',\n",
              " 'friends',\n",
              " '.']"
            ]
          },
          "metadata": {},
          "execution_count": 17
        }
      ]
    },
    {
      "cell_type": "markdown",
      "source": [
        "# Tokenization in Spacy(Other Lec.)"
      ],
      "metadata": {
        "id": "mGanVAVDfPgh"
      }
    },
    {
      "cell_type": "code",
      "source": [
        "import spacy"
      ],
      "metadata": {
        "id": "u5qUQ8-Adsy_"
      },
      "execution_count": null,
      "outputs": []
    },
    {
      "cell_type": "code",
      "source": [
        "nlp = spacy.blank(\"en\")\n",
        "\n",
        "doc = nlp(\"My name is Waqas Ahmed. I love doing coding and hanging out with my friends.\")\n",
        "\n",
        "for token in doc:\n",
        "  print(token)"
      ],
      "metadata": {
        "colab": {
          "base_uri": "https://localhost:8080/"
        },
        "id": "ZUDTyLn8flWt",
        "outputId": "e87480d9-462c-4cce-8471-62f056648557"
      },
      "execution_count": null,
      "outputs": [
        {
          "output_type": "stream",
          "name": "stdout",
          "text": [
            "My\n",
            "name\n",
            "is\n",
            "Waqas\n",
            "Ahmed\n",
            ".\n",
            "I\n",
            "love\n",
            "doing\n",
            "coding\n",
            "and\n",
            "hanging\n",
            "out\n",
            "with\n",
            "my\n",
            "friends\n",
            ".\n"
          ]
        }
      ]
    },
    {
      "cell_type": "code",
      "source": [
        "doc[3]"
      ],
      "metadata": {
        "colab": {
          "base_uri": "https://localhost:8080/"
        },
        "id": "JKjDF4Jign9Q",
        "outputId": "5b7f8aea-5f58-451b-e432-6eaca021e1b0"
      },
      "execution_count": null,
      "outputs": [
        {
          "output_type": "execute_result",
          "data": {
            "text/plain": [
              "Waqas"
            ]
          },
          "metadata": {},
          "execution_count": 20
        }
      ]
    },
    {
      "cell_type": "code",
      "source": [
        "with open (\"email.txt\") as f:\n",
        "  text = f.readlines()\n",
        "text"
      ],
      "metadata": {
        "colab": {
          "base_uri": "https://localhost:8080/"
        },
        "id": "vHuEthlQhOsD",
        "outputId": "47ef219d-1a4e-4a3e-d6a1-2b8c8aba2282"
      },
      "execution_count": null,
      "outputs": [
        {
          "output_type": "execute_result",
          "data": {
            "text/plain": [
              "['Hello there!\\n',\n",
              " '\\n',\n",
              " \"We hope this message finds you well. We're excited to share some updates and news with you. Our team has been working tirelessly on upcoming projects, and we can't wait to reveal them.\\n\",\n",
              " '\\n',\n",
              " 'For any inquiries or if you want to stay in the loop, feel free to reach out to us at info@yourcompany.com. Additionally, you can contact our team members directly: john.doe@example.com, sarah.smith@example.com, support_team@example.com, and marketing_team@example.com.\\n',\n",
              " '\\n',\n",
              " 'Looking forward to hearing from you and sharing the latest developments!\\n',\n",
              " '\\n',\n",
              " 'Best regards,\\n',\n",
              " '\\n',\n",
              " 'Your Company']"
            ]
          },
          "metadata": {},
          "execution_count": 21
        }
      ]
    },
    {
      "cell_type": "code",
      "source": [
        "text = ' '.join(text)\n",
        "text"
      ],
      "metadata": {
        "colab": {
          "base_uri": "https://localhost:8080/",
          "height": 87
        },
        "id": "rZ6OvhF5rJhk",
        "outputId": "e52aca8f-87b0-4643-821e-588d855cd9fe"
      },
      "execution_count": null,
      "outputs": [
        {
          "output_type": "execute_result",
          "data": {
            "text/plain": [
              "\"Hello there!\\n \\n We hope this message finds you well. We're excited to share some updates and news with you. Our team has been working tirelessly on upcoming projects, and we can't wait to reveal them.\\n \\n For any inquiries or if you want to stay in the loop, feel free to reach out to us at info@yourcompany.com. Additionally, you can contact our team members directly: john.doe@example.com, sarah.smith@example.com, support_team@example.com, and marketing_team@example.com.\\n \\n Looking forward to hearing from you and sharing the latest developments!\\n \\n Best regards,\\n \\n Your Company\""
            ],
            "application/vnd.google.colaboratory.intrinsic+json": {
              "type": "string"
            }
          },
          "metadata": {},
          "execution_count": 22
        }
      ]
    },
    {
      "cell_type": "code",
      "source": [
        "doc = nlp(text)\n",
        "emails = []\n",
        "\n",
        "for token in doc:\n",
        "  if token.like_email:\n",
        "    emails.append(token.text)\n",
        "\n",
        "emails"
      ],
      "metadata": {
        "colab": {
          "base_uri": "https://localhost:8080/"
        },
        "id": "fJ-Ew_tCqfp8",
        "outputId": "910260f3-8d37-40e5-c86b-a51e19a7241a"
      },
      "execution_count": null,
      "outputs": [
        {
          "output_type": "execute_result",
          "data": {
            "text/plain": [
              "['info@yourcompany.com',\n",
              " 'john.doe@example.com',\n",
              " 'sarah.smith@example.com',\n",
              " 'support_team@example.com',\n",
              " 'marketing_team@example.com']"
            ]
          },
          "metadata": {},
          "execution_count": 23
        }
      ]
    },
    {
      "cell_type": "markdown",
      "source": [
        "## Customize Tokenization Rules"
      ],
      "metadata": {
        "id": "A5KmgMjfsQkm"
      }
    },
    {
      "cell_type": "code",
      "source": [
        "doc = nlp(\"gimme double cheese extra large healthy pizza\")\n",
        "\n",
        "tokens = [token.text for token in doc]\n",
        "tokens"
      ],
      "metadata": {
        "colab": {
          "base_uri": "https://localhost:8080/"
        },
        "id": "n-fRo-RMql5R",
        "outputId": "263f71d5-7005-4805-d08f-b418a8e2a90a"
      },
      "execution_count": null,
      "outputs": [
        {
          "output_type": "execute_result",
          "data": {
            "text/plain": [
              "['gimme', 'double', 'cheese', 'extra', 'large', 'healthy', 'pizza']"
            ]
          },
          "metadata": {},
          "execution_count": 24
        }
      ]
    },
    {
      "cell_type": "code",
      "source": [
        "from spacy.symbols import ORTH\n",
        "\n",
        "nlp.tokenizer.add_special_case(\"gimme\",[\n",
        "    {ORTH: \"gim\"},\n",
        "    {ORTH: \"me\"}\n",
        "])\n",
        "\n",
        "doc = nlp(\"gimme double cheese extra large healthy pizza\")\n",
        "tokens = [token.text for token in doc]\n",
        "tokens"
      ],
      "metadata": {
        "colab": {
          "base_uri": "https://localhost:8080/"
        },
        "id": "B3-SCIP2snuo",
        "outputId": "9901cb6e-daeb-4679-b931-1f8c0bd22928"
      },
      "execution_count": null,
      "outputs": [
        {
          "output_type": "execute_result",
          "data": {
            "text/plain": [
              "['gim', 'me', 'double', 'cheese', 'extra', 'large', 'healthy', 'pizza']"
            ]
          },
          "metadata": {},
          "execution_count": 25
        }
      ]
    },
    {
      "cell_type": "markdown",
      "source": [
        "# Spacy Language Processing Pipeline"
      ],
      "metadata": {
        "id": "f8snsRQOwsW-"
      }
    },
    {
      "cell_type": "code",
      "source": [
        "import spacy"
      ],
      "metadata": {
        "id": "rJBXzamuuDJI"
      },
      "execution_count": null,
      "outputs": []
    },
    {
      "cell_type": "code",
      "source": [
        "nlp = spacy.blank(\"en\")\n",
        "\n",
        "doc = nlp(\"Captain America ate 100$ of samosa. Then he said I can do this all day.\")\n",
        "\n",
        "for token in doc:\n",
        "  print(token)"
      ],
      "metadata": {
        "colab": {
          "base_uri": "https://localhost:8080/"
        },
        "id": "hWVIVA19xCtt",
        "outputId": "1ce4af8a-2c21-4794-db6e-11ad119ccc99"
      },
      "execution_count": null,
      "outputs": [
        {
          "output_type": "stream",
          "name": "stdout",
          "text": [
            "Captain\n",
            "America\n",
            "ate\n",
            "100\n",
            "$\n",
            "of\n",
            "samosa\n",
            ".\n",
            "Then\n",
            "he\n",
            "said\n",
            "I\n",
            "can\n",
            "do\n",
            "this\n",
            "all\n",
            "day\n",
            ".\n"
          ]
        }
      ]
    },
    {
      "cell_type": "code",
      "source": [
        "nlp = spacy.load(\"en_core_web_sm\")"
      ],
      "metadata": {
        "id": "GQujg88z3KSo"
      },
      "execution_count": null,
      "outputs": []
    },
    {
      "cell_type": "code",
      "source": [
        "nlp.pipe_names"
      ],
      "metadata": {
        "colab": {
          "base_uri": "https://localhost:8080/"
        },
        "id": "thEQMchUxP9w",
        "outputId": "2ceb1f17-4683-4867-ec5c-982d8b81cfa3"
      },
      "execution_count": null,
      "outputs": [
        {
          "output_type": "execute_result",
          "data": {
            "text/plain": [
              "['tok2vec', 'tagger', 'parser', 'attribute_ruler', 'lemmatizer', 'ner']"
            ]
          },
          "metadata": {},
          "execution_count": 44
        }
      ]
    },
    {
      "cell_type": "code",
      "source": [
        "nlp.pipeline"
      ],
      "metadata": {
        "colab": {
          "base_uri": "https://localhost:8080/"
        },
        "id": "niNfWB6q3OT7",
        "outputId": "d414e028-0e01-4ed7-c083-5f0fa1d403cb"
      },
      "execution_count": null,
      "outputs": [
        {
          "output_type": "execute_result",
          "data": {
            "text/plain": [
              "[('tok2vec', <spacy.pipeline.tok2vec.Tok2Vec at 0x7f4ace2eeda0>),\n",
              " ('tagger', <spacy.pipeline.tagger.Tagger at 0x7f49d1798340>),\n",
              " ('parser', <spacy.pipeline.dep_parser.DependencyParser at 0x7f49cb9bb920>),\n",
              " ('attribute_ruler',\n",
              "  <spacy.pipeline.attributeruler.AttributeRuler at 0x7f49d17c4dc0>),\n",
              " ('lemmatizer',\n",
              "  <spacy.lang.en.lemmatizer.EnglishLemmatizer at 0x7f49d17c7540>),\n",
              " ('ner', <spacy.pipeline.ner.EntityRecognizer at 0x7f49cb9bb7d0>)]"
            ]
          },
          "metadata": {},
          "execution_count": 30
        }
      ]
    },
    {
      "cell_type": "code",
      "source": [
        "doc = nlp(\"Captain America ate 100$ of samosa. Then he said I can do this all day.\")\n",
        "\n",
        "for token in doc:\n",
        "  print(token, \" | \", token.pos_, \" | \", token.lemma_)"
      ],
      "metadata": {
        "colab": {
          "base_uri": "https://localhost:8080/"
        },
        "id": "HhreVEQD3RFK",
        "outputId": "aee9c444-84cb-4d22-8d31-217864c8f8e4"
      },
      "execution_count": null,
      "outputs": [
        {
          "output_type": "stream",
          "name": "stdout",
          "text": [
            "Captain  |  PROPN  |  Captain\n",
            "America  |  PROPN  |  America\n",
            "ate  |  VERB  |  eat\n",
            "100  |  NUM  |  100\n",
            "$  |  NUM  |  $\n",
            "of  |  ADP  |  of\n",
            "samosa  |  PROPN  |  samosa\n",
            ".  |  PUNCT  |  .\n",
            "Then  |  ADV  |  then\n",
            "he  |  PRON  |  he\n",
            "said  |  VERB  |  say\n",
            "I  |  PRON  |  I\n",
            "can  |  AUX  |  can\n",
            "do  |  VERB  |  do\n",
            "this  |  PRON  |  this\n",
            "all  |  DET  |  all\n",
            "day  |  NOUN  |  day\n",
            ".  |  PUNCT  |  .\n"
          ]
        }
      ]
    },
    {
      "cell_type": "markdown",
      "source": [
        "## NER"
      ],
      "metadata": {
        "id": "zvY185trZ8fP"
      }
    },
    {
      "cell_type": "code",
      "source": [
        "doc = nlp(\"Tesla Inc is gooing to acquire Twitter for $45 billion.\")\n",
        "\n",
        "for ent in doc.ents:\n",
        "  print(ent.text, \" | \", ent.label_, \" | \", spacy.explain(ent.label_))"
      ],
      "metadata": {
        "colab": {
          "base_uri": "https://localhost:8080/"
        },
        "id": "WUKSOGSA5a9u",
        "outputId": "759916d8-6d5c-46be-b895-a866e0f1ed88"
      },
      "execution_count": null,
      "outputs": [
        {
          "output_type": "stream",
          "name": "stdout",
          "text": [
            "Tesla Inc  |  ORG  |  Companies, agencies, institutions, etc.\n",
            "Twitter  |  PRODUCT  |  Objects, vehicles, foods, etc. (not services)\n",
            "$45 billion  |  MONEY  |  Monetary values, including unit\n"
          ]
        }
      ]
    },
    {
      "cell_type": "code",
      "source": [
        "from spacy import displacy\n",
        "\n",
        "displacy.render(doc, style=\"ent\")"
      ],
      "metadata": {
        "colab": {
          "base_uri": "https://localhost:8080/",
          "height": 104
        },
        "id": "M1_nPzifaX_s",
        "outputId": "2b764697-7fa0-4825-b729-f07696c285c3"
      },
      "execution_count": null,
      "outputs": [
        {
          "output_type": "execute_result",
          "data": {
            "text/plain": [
              "'<div class=\"entities\" style=\"line-height: 2.5; direction: ltr\">\\n<mark class=\"entity\" style=\"background: #7aecec; padding: 0.45em 0.6em; margin: 0 0.25em; line-height: 1; border-radius: 0.35em;\">\\n    Tesla Inc\\n    <span style=\"font-size: 0.8em; font-weight: bold; line-height: 1; border-radius: 0.35em; vertical-align: middle; margin-left: 0.5rem\">ORG</span>\\n</mark>\\n is gooing to acquire twitter for \\n<mark class=\"entity\" style=\"background: #e4e7d2; padding: 0.45em 0.6em; margin: 0 0.25em; line-height: 1; border-radius: 0.35em;\">\\n    $45 billion\\n    <span style=\"font-size: 0.8em; font-weight: bold; line-height: 1; border-radius: 0.35em; vertical-align: middle; margin-left: 0.5rem\">MONEY</span>\\n</mark>\\n.</div>'"
            ],
            "application/vnd.google.colaboratory.intrinsic+json": {
              "type": "string"
            }
          },
          "metadata": {},
          "execution_count": 41
        }
      ]
    },
    {
      "cell_type": "markdown",
      "source": [
        "## Adding custom pipeline"
      ],
      "metadata": {
        "id": "3Z67j5Uydcgk"
      }
    },
    {
      "cell_type": "code",
      "source": [
        "src_nlp = spacy.load(\"en_core_web_sm\")\n",
        "\n",
        "nlp = spacy.blank(\"en\")\n",
        "\n",
        "nlp.add_pipe(\"ner\", source = src_nlp)\n",
        "nlp.pipe_names"
      ],
      "metadata": {
        "colab": {
          "base_uri": "https://localhost:8080/"
        },
        "id": "Mf11O_FWa5QH",
        "outputId": "9710b522-f871-4227-f447-3e8e35f685cd"
      },
      "execution_count": null,
      "outputs": [
        {
          "output_type": "execute_result",
          "data": {
            "text/plain": [
              "['ner']"
            ]
          },
          "metadata": {},
          "execution_count": 47
        }
      ]
    },
    {
      "cell_type": "code",
      "source": [
        "doc = nlp(\"Tesla Inc is gooing to acquire Twitter for $45 billion.\")\n",
        "\n",
        "for ent in doc.ents:\n",
        "  print(ent.text, \" | \", ent.label_, \" | \", spacy.explain(ent.label_))"
      ],
      "metadata": {
        "colab": {
          "base_uri": "https://localhost:8080/"
        },
        "id": "SzEiPPUcdsB8",
        "outputId": "e496c9d0-45f6-4db4-b145-21302fa8b9ce"
      },
      "execution_count": null,
      "outputs": [
        {
          "output_type": "stream",
          "name": "stdout",
          "text": [
            "Tesla Inc  |  ORG  |  Companies, agencies, institutions, etc.\n",
            "Twitter  |  PRODUCT  |  Objects, vehicles, foods, etc. (not services)\n",
            "$45 billion  |  MONEY  |  Monetary values, including unit\n"
          ]
        }
      ]
    },
    {
      "cell_type": "markdown",
      "source": [
        "# Stemming and Lemmatization"
      ],
      "metadata": {
        "id": "_6a5REpDgCeh"
      }
    },
    {
      "cell_type": "code",
      "source": [
        "import nltk\n",
        "import spacy"
      ],
      "metadata": {
        "id": "406JT31QeHoH"
      },
      "execution_count": null,
      "outputs": []
    },
    {
      "cell_type": "code",
      "source": [
        "from nltk.stem import PorterStemmer\n",
        "\n",
        "stemmer = PorterStemmer()"
      ],
      "metadata": {
        "id": "4Gj72N0OgHwX"
      },
      "execution_count": null,
      "outputs": []
    },
    {
      "cell_type": "code",
      "source": [
        "words = [\"eating\", \"ate\", \"eat\", \"ability\", \"adjustable\", \"rafting\", \"Meeting\"]\n",
        "\n",
        "for word in words:\n",
        "  print(word, \" | \", stemmer.stem(word))"
      ],
      "metadata": {
        "colab": {
          "base_uri": "https://localhost:8080/"
        },
        "id": "rZS-7re8gQaf",
        "outputId": "edcbfbf0-cbff-4eac-e8f4-5add956d9473"
      },
      "execution_count": null,
      "outputs": [
        {
          "output_type": "stream",
          "name": "stdout",
          "text": [
            "eating  |  eat\n",
            "ate  |  ate\n",
            "eat  |  eat\n",
            "ability  |  abil\n",
            "adjustable  |  adjust\n",
            "rafting  |  raft\n",
            "Meeting  |  meet\n"
          ]
        }
      ]
    },
    {
      "cell_type": "code",
      "source": [
        "nlp = spacy.load(\"en_core_web_sm\")\n",
        "\n",
        "doc = nlp(\"eating ate eat ability adjustable rafting Meeting\")\n",
        "\n",
        "for token in doc:\n",
        "  print(token, \" | \", token.lemma_)"
      ],
      "metadata": {
        "colab": {
          "base_uri": "https://localhost:8080/"
        },
        "id": "V6uGjHRRglsl",
        "outputId": "c89e2613-a2f7-4bfe-aeac-2eec911c70bd"
      },
      "execution_count": null,
      "outputs": [
        {
          "output_type": "stream",
          "name": "stdout",
          "text": [
            "eating  |  eat\n",
            "ate  |  ate\n",
            "eat  |  eat\n",
            "ability  |  ability\n",
            "adjustable  |  adjustable\n",
            "rafting  |  raft\n",
            "Meeting  |  Meeting\n"
          ]
        }
      ]
    },
    {
      "cell_type": "code",
      "source": [
        "nlp.pipe_names"
      ],
      "metadata": {
        "colab": {
          "base_uri": "https://localhost:8080/"
        },
        "id": "CWbrNEDgg28L",
        "outputId": "744e918f-fdf3-4fc7-b29f-6f6f81bb33ce"
      },
      "execution_count": null,
      "outputs": [
        {
          "output_type": "execute_result",
          "data": {
            "text/plain": [
              "['tok2vec', 'tagger', 'parser', 'attribute_ruler', 'lemmatizer', 'ner']"
            ]
          },
          "metadata": {},
          "execution_count": 54
        }
      ]
    },
    {
      "cell_type": "markdown",
      "source": [
        "## Part of Speech Tagging (POS)"
      ],
      "metadata": {
        "id": "U4znqcJIBlmx"
      }
    },
    {
      "cell_type": "code",
      "source": [
        "import spacy"
      ],
      "metadata": {
        "id": "nQ4fLhDhhjIY"
      },
      "execution_count": null,
      "outputs": []
    },
    {
      "cell_type": "code",
      "source": [
        "nlp = spacy.load(\"en_core_web_sm\")"
      ],
      "metadata": {
        "id": "VO5yLsNaBrKz"
      },
      "execution_count": null,
      "outputs": []
    },
    {
      "cell_type": "code",
      "source": [
        "doc = nlp(\"Elon flew to mars yesterday. He carried biryani masala wit him\")\n",
        "\n",
        "for token in doc:\n",
        "  print(token, \" | \", token.pos_, \" | \", spacy.explain(token.pos_))"
      ],
      "metadata": {
        "colab": {
          "base_uri": "https://localhost:8080/"
        },
        "id": "VsOahCepBviX",
        "outputId": "ebb99ec4-46c1-44bc-8032-dd3ffb462ebb"
      },
      "execution_count": null,
      "outputs": [
        {
          "output_type": "stream",
          "name": "stdout",
          "text": [
            "Elon  |  PROPN  |  proper noun\n",
            "flew  |  VERB  |  verb\n",
            "to  |  ADP  |  adposition\n",
            "mars  |  NOUN  |  noun\n",
            "yesterday  |  NOUN  |  noun\n",
            ".  |  PUNCT  |  punctuation\n",
            "He  |  PRON  |  pronoun\n",
            "carried  |  VERB  |  verb\n",
            "biryani  |  ADJ  |  adjective\n",
            "masala  |  NOUN  |  noun\n",
            "wit  |  NOUN  |  noun\n",
            "him  |  PRON  |  pronoun\n"
          ]
        }
      ]
    },
    {
      "cell_type": "code",
      "source": [
        "doc = nlp(\"Wow! I won five thosand prixe bond\")\n",
        "\n",
        "for token in doc:\n",
        "  print(token, \" | \", token.pos_, \" | \", spacy.explain(token.pos_), \" | \", token.tag_, \" | \", spacy.explain(token.tag_))"
      ],
      "metadata": {
        "colab": {
          "base_uri": "https://localhost:8080/"
        },
        "id": "ULct9FofCC5n",
        "outputId": "fa189189-fcf8-45c3-a73a-4b8bde351816"
      },
      "execution_count": null,
      "outputs": [
        {
          "output_type": "stream",
          "name": "stdout",
          "text": [
            "Wow  |  INTJ  |  interjection  |  UH  |  interjection\n",
            "!  |  PUNCT  |  punctuation  |  .  |  punctuation mark, sentence closer\n",
            "I  |  PRON  |  pronoun  |  PRP  |  pronoun, personal\n",
            "won  |  VERB  |  verb  |  VBD  |  verb, past tense\n",
            "five  |  NUM  |  numeral  |  CD  |  cardinal number\n",
            "thosand  |  NOUN  |  noun  |  NN  |  noun, singular or mass\n",
            "prixe  |  PROPN  |  proper noun  |  NNP  |  noun, proper singular\n",
            "bond  |  PROPN  |  proper noun  |  NNP  |  noun, proper singular\n"
          ]
        }
      ]
    },
    {
      "cell_type": "markdown",
      "source": [
        "## Remving Unecessary tokens from Meta Eraning Report"
      ],
      "metadata": {
        "id": "HOu4-c6qFG5F"
      }
    },
    {
      "cell_type": "code",
      "source": [
        "report = \"\"\"\n",
        "MENLO PARK, Calif. – July 26, 2023 – Meta Platforms, Inc. (Nasdaq: META) today reported financial results for the\n",
        "quarter ended June 30, 2023.\n",
        "\"We had a good quarter. We continue to see strong engagement across our apps and we have the most exciting roadmap I've\n",
        "seen in a while with Llama 2, Threads, Reels, new AI products in the pipeline, and the launch of Quest 3 this fall,\" said Mark\n",
        "Zuckerberg, Meta founder and CEO.\n",
        "Second Quarter 2023 Financial Highlights\n",
        "Three Months Ended June 30,\n",
        "In millions, except percentages and per share amounts 2023 2022 % Change\n",
        "Revenue $ 31,999 $ 28,822 11%\n",
        "Costs and expenses 22,607 20,464 10%\n",
        "Income from operations $ 9,392 $ 8,358 12%\n",
        "Operating margin 29 % 29 %\n",
        "Provision for income taxes $ 1,505 $ 1,499 —%\n",
        "Effective tax rate 16 % 18 %\n",
        "Net income $ 7,788 $ 6,687 16%\n",
        "Diluted earnings per share (EPS) $ 2.98 $ 2.46 21%\n",
        "\"\"\""
      ],
      "metadata": {
        "id": "blM4pyTZC-0B"
      },
      "execution_count": null,
      "outputs": []
    },
    {
      "cell_type": "code",
      "source": [
        "doc = nlp(report)\n",
        "\n",
        "filtered_tokens = []\n",
        "\n",
        "for token in doc:\n",
        "  if token.pos_ not in [\"SPACE\", \"X\", \"PUNCT\"]:\n",
        "    filtered_tokens.append(token)"
      ],
      "metadata": {
        "id": "ZyhLlGlLFQ96"
      },
      "execution_count": null,
      "outputs": []
    },
    {
      "cell_type": "code",
      "source": [
        "filtered_tokens[:10]"
      ],
      "metadata": {
        "colab": {
          "base_uri": "https://localhost:8080/"
        },
        "id": "-LSumGWcFgZ5",
        "outputId": "c80bb74a-e11f-4d03-8842-c1cca5c9c7de"
      },
      "execution_count": null,
      "outputs": [
        {
          "output_type": "execute_result",
          "data": {
            "text/plain": [
              "[MENLO, PARK, Calif., July, 26, 2023, Meta, Platforms, Inc., Nasdaq]"
            ]
          },
          "metadata": {},
          "execution_count": 13
        }
      ]
    },
    {
      "cell_type": "markdown",
      "source": [
        "### No of POS"
      ],
      "metadata": {
        "id": "Gk049C-DF2uV"
      }
    },
    {
      "cell_type": "code",
      "source": [
        "count = doc.count_by(spacy.attrs.POS)\n",
        "count"
      ],
      "metadata": {
        "colab": {
          "base_uri": "https://localhost:8080/"
        },
        "id": "A2dcnP-5Fl-V",
        "outputId": "9b4ac79b-eabb-40d8-e3e8-61fbab8958fb"
      },
      "execution_count": null,
      "outputs": [
        {
          "output_type": "execute_result",
          "data": {
            "text/plain": [
              "{103: 17,\n",
              " 96: 28,\n",
              " 97: 25,\n",
              " 93: 31,\n",
              " 92: 40,\n",
              " 100: 13,\n",
              " 84: 7,\n",
              " 85: 11,\n",
              " 90: 7,\n",
              " 95: 5,\n",
              " 94: 1,\n",
              " 89: 5,\n",
              " 86: 1,\n",
              " 87: 1,\n",
              " 98: 1,\n",
              " 99: 10}"
            ]
          },
          "metadata": {},
          "execution_count": 16
        }
      ]
    },
    {
      "cell_type": "code",
      "source": [
        "for k, v in count.items():\n",
        "  print(doc.vocab[k].text, \"|\", v)"
      ],
      "metadata": {
        "colab": {
          "base_uri": "https://localhost:8080/"
        },
        "id": "kxDJ8lDrF_oS",
        "outputId": "5b0de896-1ca6-47df-bf4e-d37958a5f008"
      },
      "execution_count": null,
      "outputs": [
        {
          "output_type": "stream",
          "name": "stdout",
          "text": [
            "SPACE | 17\n",
            "PROPN | 28\n",
            "PUNCT | 25\n",
            "NUM | 31\n",
            "NOUN | 40\n",
            "VERB | 13\n",
            "ADJ | 7\n",
            "ADP | 11\n",
            "DET | 7\n",
            "PRON | 5\n",
            "PART | 1\n",
            "CCONJ | 5\n",
            "ADV | 1\n",
            "AUX | 1\n",
            "SCONJ | 1\n",
            "SYM | 10\n"
          ]
        }
      ]
    },
    {
      "cell_type": "markdown",
      "source": [
        "## Named Entity Recognition(NER)"
      ],
      "metadata": {
        "id": "OZcqZtN-Ge2M"
      }
    },
    {
      "cell_type": "code",
      "source": [
        "import spacy\n",
        "nlp = spacy.load(\"en_core_web_sm\")"
      ],
      "metadata": {
        "id": "4MudxBM4GQD2"
      },
      "execution_count": null,
      "outputs": []
    },
    {
      "cell_type": "code",
      "source": [
        "nlp.pipe_names"
      ],
      "metadata": {
        "colab": {
          "base_uri": "https://localhost:8080/"
        },
        "id": "_ou6ttW_IQw1",
        "outputId": "99671370-cd86-4154-daa0-633d6161a7bb"
      },
      "execution_count": null,
      "outputs": [
        {
          "output_type": "execute_result",
          "data": {
            "text/plain": [
              "['tok2vec', 'tagger', 'parser', 'attribute_ruler', 'lemmatizer', 'ner']"
            ]
          },
          "metadata": {},
          "execution_count": 19
        }
      ]
    },
    {
      "cell_type": "code",
      "source": [
        "doc = nlp(\"Tesla Inc is going to acquire the twitter inc for $45 billion\")\n",
        "\n",
        "for ent in doc.ents:\n",
        "  print(ent.text, \"|\", ent.label_, \"|\", spacy.explain(ent.label_))"
      ],
      "metadata": {
        "colab": {
          "base_uri": "https://localhost:8080/"
        },
        "id": "8LQ0tbbEISeI",
        "outputId": "1b95e87e-eb16-4e44-f3d5-f81a80bcf26e"
      },
      "execution_count": null,
      "outputs": [
        {
          "output_type": "stream",
          "name": "stdout",
          "text": [
            "Tesla Inc | ORG | Companies, agencies, institutions, etc.\n",
            "the twitter inc | ORG | Companies, agencies, institutions, etc.\n",
            "$45 billion | MONEY | Monetary values, including unit\n"
          ]
        }
      ]
    },
    {
      "cell_type": "code",
      "source": [
        "from spacy import displacy\n",
        "\n",
        "displacy.render(doc, style=\"ent\")"
      ],
      "metadata": {
        "colab": {
          "base_uri": "https://localhost:8080/",
          "height": 139
        },
        "id": "WU17t8FYIpxP",
        "outputId": "609fa0b8-7404-4f63-df4b-a9c7b1c7353e"
      },
      "execution_count": null,
      "outputs": [
        {
          "output_type": "execute_result",
          "data": {
            "text/plain": [
              "'<div class=\"entities\" style=\"line-height: 2.5; direction: ltr\">\\n<mark class=\"entity\" style=\"background: #7aecec; padding: 0.45em 0.6em; margin: 0 0.25em; line-height: 1; border-radius: 0.35em;\">\\n    Tesla Inc\\n    <span style=\"font-size: 0.8em; font-weight: bold; line-height: 1; border-radius: 0.35em; vertical-align: middle; margin-left: 0.5rem\">ORG</span>\\n</mark>\\n is going to acquire \\n<mark class=\"entity\" style=\"background: #7aecec; padding: 0.45em 0.6em; margin: 0 0.25em; line-height: 1; border-radius: 0.35em;\">\\n    the twitter inc\\n    <span style=\"font-size: 0.8em; font-weight: bold; line-height: 1; border-radius: 0.35em; vertical-align: middle; margin-left: 0.5rem\">ORG</span>\\n</mark>\\n for \\n<mark class=\"entity\" style=\"background: #e4e7d2; padding: 0.45em 0.6em; margin: 0 0.25em; line-height: 1; border-radius: 0.35em;\">\\n    $45 billion\\n    <span style=\"font-size: 0.8em; font-weight: bold; line-height: 1; border-radius: 0.35em; vertical-align: middle; margin-left: 0.5rem\">MONEY</span>\\n</mark>\\n</div>'"
            ],
            "application/vnd.google.colaboratory.intrinsic+json": {
              "type": "string"
            }
          },
          "metadata": {},
          "execution_count": 25
        }
      ]
    },
    {
      "cell_type": "markdown",
      "source": [
        "<div class=\"entities\" style=\"line-height: 2.5; direction: ltr\">\\n<mark class=\"entity\" style=\"background: #7aecec; padding: 0.45em 0.6em; margin: 0 0.25em; line-height: 1; border-radius: 0.35em;\">\\n    Tesla Inc\\n    <span style=\"font-size: 0.8em; font-weight: bold; line-height: 1; border-radius: 0.35em; vertical-align: middle; margin-left: 0.5rem\">ORG</span>\\n</mark>\\n is going to acquire \\n<mark class=\"entity\" style=\"background: #7aecec; padding: 0.45em 0.6em; margin: 0 0.25em; line-height: 1; border-radius: 0.35em;\">\\n    the twitter inc\\n    <span style=\"font-size: 0.8em; font-weight: bold; line-height: 1; border-radius: 0.35em; vertical-align: middle; margin-left: 0.5rem\">ORG</span>\\n</mark>\\n for \\n<mark class=\"entity\" style=\"background: #e4e7d2; padding: 0.45em 0.6em; margin: 0 0.25em; line-height: 1; border-radius: 0.35em;\">\\n    $45 billion\\n    <span style=\"font-size: 0.8em; font-weight: bold; line-height: 1; border-radius: 0.35em; vertical-align: middle; margin-left: 0.5rem\">"
      ],
      "metadata": {
        "id": "RzzuwudrI-di"
      }
    },
    {
      "cell_type": "code",
      "source": [
        "nlp.pipe_labels['ner']"
      ],
      "metadata": {
        "colab": {
          "base_uri": "https://localhost:8080/"
        },
        "id": "1mutJcl6I0T5",
        "outputId": "4b841705-865f-47ed-cf64-ba1981618a45"
      },
      "execution_count": null,
      "outputs": [
        {
          "output_type": "execute_result",
          "data": {
            "text/plain": [
              "['CARDINAL',\n",
              " 'DATE',\n",
              " 'EVENT',\n",
              " 'FAC',\n",
              " 'GPE',\n",
              " 'LANGUAGE',\n",
              " 'LAW',\n",
              " 'LOC',\n",
              " 'MONEY',\n",
              " 'NORP',\n",
              " 'ORDINAL',\n",
              " 'ORG',\n",
              " 'PERCENT',\n",
              " 'PERSON',\n",
              " 'PRODUCT',\n",
              " 'QUANTITY',\n",
              " 'TIME',\n",
              " 'WORK_OF_ART']"
            ]
          },
          "metadata": {},
          "execution_count": 26
        }
      ]
    },
    {
      "cell_type": "code",
      "source": [
        "doc = nlp(\"Michael Bloomberg founded Bloomberg Inc in 1982\")\n",
        "\n",
        "for ent in doc.ents:\n",
        "  print(ent.text, \"|\", ent.label_, \"|\", spacy.explain(ent.label_))"
      ],
      "metadata": {
        "colab": {
          "base_uri": "https://localhost:8080/"
        },
        "id": "Tyc1UK70JKIq",
        "outputId": "bd96f36f-3d40-490e-d853-145ff9fd2f76"
      },
      "execution_count": null,
      "outputs": [
        {
          "output_type": "stream",
          "name": "stdout",
          "text": [
            "Michael Bloomberg | PERSON | People, including fictional\n",
            "Bloomberg Inc | ORG | Companies, agencies, institutions, etc.\n",
            "1982 | DATE | Absolute or relative dates or periods\n"
          ]
        }
      ]
    },
    {
      "cell_type": "markdown",
      "source": [
        "### Span in spaCy"
      ],
      "metadata": {
        "id": "Lj1OLNgBKQgK"
      }
    },
    {
      "cell_type": "code",
      "source": [
        "doc = nlp(\"Tesla is going to acquire the twitter for $45 billion\")\n",
        "\n",
        "for ent in doc.ents:\n",
        "  print(ent.text, \"|\", ent.label_, \"|\", spacy.explain(ent.label_))"
      ],
      "metadata": {
        "colab": {
          "base_uri": "https://localhost:8080/"
        },
        "id": "c-mTNHzgKef9",
        "outputId": "4348f8aa-600a-4230-a91c-07743e2e8402"
      },
      "execution_count": null,
      "outputs": [
        {
          "output_type": "stream",
          "name": "stdout",
          "text": [
            "Tesla | ORG | Companies, agencies, institutions, etc.\n",
            "$45 billion | MONEY | Monetary values, including unit\n"
          ]
        }
      ]
    },
    {
      "cell_type": "code",
      "source": [
        "from spacy.tokens import Span\n",
        "\n",
        "s1 = Span(doc, 6,7, label=\"ORG\")\n",
        "\n",
        "doc.set_ents([s1], default=\"unmodified\")"
      ],
      "metadata": {
        "id": "wCB1v8OJJaul"
      },
      "execution_count": null,
      "outputs": []
    },
    {
      "cell_type": "code",
      "source": [
        "for ent in doc.ents:\n",
        "  print(ent.text, \"|\", ent.label_, \"|\", spacy.explain(ent.label_))"
      ],
      "metadata": {
        "colab": {
          "base_uri": "https://localhost:8080/"
        },
        "id": "d4awNuOmK3uG",
        "outputId": "93f76b25-eb11-465f-80c3-8019f78b7d94"
      },
      "execution_count": null,
      "outputs": [
        {
          "output_type": "stream",
          "name": "stdout",
          "text": [
            "Tesla | ORG | Companies, agencies, institutions, etc.\n",
            "the | ORG | Companies, agencies, institutions, etc.\n",
            "twitter | ORG | Companies, agencies, institutions, etc.\n",
            "for | ORG | Companies, agencies, institutions, etc.\n",
            "$45 billion | MONEY | Monetary values, including unit\n"
          ]
        }
      ]
    },
    {
      "cell_type": "code",
      "source": [],
      "metadata": {
        "id": "agPhnxfGK4kl"
      },
      "execution_count": null,
      "outputs": []
    }
  ]
}
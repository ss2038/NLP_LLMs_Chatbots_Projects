{
  "nbformat": 4,
  "nbformat_minor": 0,
  "metadata": {
    "colab": {
      "provenance": []
    },
    "kernelspec": {
      "name": "python3",
      "display_name": "Python 3"
    },
    "language_info": {
      "name": "python"
    }
  },
  "cells": [
    {
      "cell_type": "code",
      "source": [
        "pip install newspaper3k"
      ],
      "metadata": {
        "colab": {
          "base_uri": "https://localhost:8080/"
        },
        "id": "QnhWxpMr_7J3",
        "outputId": "a5eafa29-8fc2-4686-b876-dcb1d7ce6d1e"
      },
      "execution_count": null,
      "outputs": [
        {
          "output_type": "stream",
          "name": "stdout",
          "text": [
            "Collecting newspaper3k\n",
            "  Downloading newspaper3k-0.2.8-py3-none-any.whl (211 kB)\n",
            "\u001b[2K     \u001b[90m━━━━━━━━━━━━━━━━━━━━━━━━━━━━━━━━━━━━━━━━\u001b[0m \u001b[32m211.1/211.1 kB\u001b[0m \u001b[31m1.9 MB/s\u001b[0m eta \u001b[36m0:00:00\u001b[0m\n",
            "\u001b[?25hRequirement already satisfied: beautifulsoup4>=4.4.1 in /usr/local/lib/python3.10/dist-packages (from newspaper3k) (4.11.2)\n",
            "Requirement already satisfied: Pillow>=3.3.0 in /usr/local/lib/python3.10/dist-packages (from newspaper3k) (9.4.0)\n",
            "Requirement already satisfied: PyYAML>=3.11 in /usr/local/lib/python3.10/dist-packages (from newspaper3k) (6.0.1)\n",
            "Collecting cssselect>=0.9.2 (from newspaper3k)\n",
            "  Downloading cssselect-1.2.0-py2.py3-none-any.whl (18 kB)\n",
            "Requirement already satisfied: lxml>=3.6.0 in /usr/local/lib/python3.10/dist-packages (from newspaper3k) (4.9.3)\n",
            "Requirement already satisfied: nltk>=3.2.1 in /usr/local/lib/python3.10/dist-packages (from newspaper3k) (3.8.1)\n",
            "Requirement already satisfied: requests>=2.10.0 in /usr/local/lib/python3.10/dist-packages (from newspaper3k) (2.31.0)\n",
            "Collecting feedparser>=5.2.1 (from newspaper3k)\n",
            "  Downloading feedparser-6.0.11-py3-none-any.whl (81 kB)\n",
            "\u001b[2K     \u001b[90m━━━━━━━━━━━━━━━━━━━━━━━━━━━━━━━━━━━━━━━━\u001b[0m \u001b[32m81.3/81.3 kB\u001b[0m \u001b[31m5.8 MB/s\u001b[0m eta \u001b[36m0:00:00\u001b[0m\n",
            "\u001b[?25hCollecting tldextract>=2.0.1 (from newspaper3k)\n",
            "  Downloading tldextract-5.1.1-py3-none-any.whl (97 kB)\n",
            "\u001b[2K     \u001b[90m━━━━━━━━━━━━━━━━━━━━━━━━━━━━━━━━━━━━━━━━\u001b[0m \u001b[32m97.7/97.7 kB\u001b[0m \u001b[31m10.5 MB/s\u001b[0m eta \u001b[36m0:00:00\u001b[0m\n",
            "\u001b[?25hCollecting feedfinder2>=0.0.4 (from newspaper3k)\n",
            "  Downloading feedfinder2-0.0.4.tar.gz (3.3 kB)\n",
            "  Preparing metadata (setup.py) ... \u001b[?25l\u001b[?25hdone\n",
            "Collecting jieba3k>=0.35.1 (from newspaper3k)\n",
            "  Downloading jieba3k-0.35.1.zip (7.4 MB)\n",
            "\u001b[2K     \u001b[90m━━━━━━━━━━━━━━━━━━━━━━━━━━━━━━━━━━━━━━━━\u001b[0m \u001b[32m7.4/7.4 MB\u001b[0m \u001b[31m31.9 MB/s\u001b[0m eta \u001b[36m0:00:00\u001b[0m\n",
            "\u001b[?25h  Preparing metadata (setup.py) ... \u001b[?25l\u001b[?25hdone\n",
            "Requirement already satisfied: python-dateutil>=2.5.3 in /usr/local/lib/python3.10/dist-packages (from newspaper3k) (2.8.2)\n",
            "Collecting tinysegmenter==0.3 (from newspaper3k)\n",
            "  Downloading tinysegmenter-0.3.tar.gz (16 kB)\n",
            "  Preparing metadata (setup.py) ... \u001b[?25l\u001b[?25hdone\n",
            "Requirement already satisfied: soupsieve>1.2 in /usr/local/lib/python3.10/dist-packages (from beautifulsoup4>=4.4.1->newspaper3k) (2.5)\n",
            "Requirement already satisfied: six in /usr/local/lib/python3.10/dist-packages (from feedfinder2>=0.0.4->newspaper3k) (1.16.0)\n",
            "Collecting sgmllib3k (from feedparser>=5.2.1->newspaper3k)\n",
            "  Downloading sgmllib3k-1.0.0.tar.gz (5.8 kB)\n",
            "  Preparing metadata (setup.py) ... \u001b[?25l\u001b[?25hdone\n",
            "Requirement already satisfied: click in /usr/local/lib/python3.10/dist-packages (from nltk>=3.2.1->newspaper3k) (8.1.7)\n",
            "Requirement already satisfied: joblib in /usr/local/lib/python3.10/dist-packages (from nltk>=3.2.1->newspaper3k) (1.3.2)\n",
            "Requirement already satisfied: regex>=2021.8.3 in /usr/local/lib/python3.10/dist-packages (from nltk>=3.2.1->newspaper3k) (2023.6.3)\n",
            "Requirement already satisfied: tqdm in /usr/local/lib/python3.10/dist-packages (from nltk>=3.2.1->newspaper3k) (4.66.1)\n",
            "Requirement already satisfied: charset-normalizer<4,>=2 in /usr/local/lib/python3.10/dist-packages (from requests>=2.10.0->newspaper3k) (3.3.2)\n",
            "Requirement already satisfied: idna<4,>=2.5 in /usr/local/lib/python3.10/dist-packages (from requests>=2.10.0->newspaper3k) (3.6)\n",
            "Requirement already satisfied: urllib3<3,>=1.21.1 in /usr/local/lib/python3.10/dist-packages (from requests>=2.10.0->newspaper3k) (2.0.7)\n",
            "Requirement already satisfied: certifi>=2017.4.17 in /usr/local/lib/python3.10/dist-packages (from requests>=2.10.0->newspaper3k) (2023.11.17)\n",
            "Collecting requests-file>=1.4 (from tldextract>=2.0.1->newspaper3k)\n",
            "  Downloading requests_file-1.5.1-py2.py3-none-any.whl (3.7 kB)\n",
            "Requirement already satisfied: filelock>=3.0.8 in /usr/local/lib/python3.10/dist-packages (from tldextract>=2.0.1->newspaper3k) (3.13.1)\n",
            "Building wheels for collected packages: tinysegmenter, feedfinder2, jieba3k, sgmllib3k\n",
            "  Building wheel for tinysegmenter (setup.py) ... \u001b[?25l\u001b[?25hdone\n",
            "  Created wheel for tinysegmenter: filename=tinysegmenter-0.3-py3-none-any.whl size=13538 sha256=d08fcfe1ec7f2428f9509947ea0b2cfca5128e5c72b6d50b5a18515627f8177c\n",
            "  Stored in directory: /root/.cache/pip/wheels/c8/d6/6c/384f58df48c00b9a31d638005143b5b3ac62c3d25fb1447f23\n",
            "  Building wheel for feedfinder2 (setup.py) ... \u001b[?25l\u001b[?25hdone\n",
            "  Created wheel for feedfinder2: filename=feedfinder2-0.0.4-py3-none-any.whl size=3340 sha256=ee6fe4fe56338cd82b1f04fd3fb96161929e3e0c4d307af23a052c2c792ab750\n",
            "  Stored in directory: /root/.cache/pip/wheels/97/02/e7/a1ff1760e12bdbaab0ac824fae5c1bc933e41c4ccd6a8f8edb\n",
            "  Building wheel for jieba3k (setup.py) ... \u001b[?25l\u001b[?25hdone\n",
            "  Created wheel for jieba3k: filename=jieba3k-0.35.1-py3-none-any.whl size=7398381 sha256=18e23091b6675103bde85a14865063929d17a024425f4ee96ba8fdcd2eab0ddc\n",
            "  Stored in directory: /root/.cache/pip/wheels/7a/c4/0c/12a9a314ecac499456c4c3b2fcc2f635a3b45a39dfbd240299\n",
            "  Building wheel for sgmllib3k (setup.py) ... \u001b[?25l\u001b[?25hdone\n",
            "  Created wheel for sgmllib3k: filename=sgmllib3k-1.0.0-py3-none-any.whl size=6048 sha256=9fc7b4fa522d8069e8008e8e00bc17b9a730add977626bf1e5568879e1fbca59\n",
            "  Stored in directory: /root/.cache/pip/wheels/f0/69/93/a47e9d621be168e9e33c7ce60524393c0b92ae83cf6c6e89c5\n",
            "Successfully built tinysegmenter feedfinder2 jieba3k sgmllib3k\n",
            "Installing collected packages: tinysegmenter, sgmllib3k, jieba3k, feedparser, cssselect, requests-file, feedfinder2, tldextract, newspaper3k\n",
            "Successfully installed cssselect-1.2.0 feedfinder2-0.0.4 feedparser-6.0.11 jieba3k-0.35.1 newspaper3k-0.2.8 requests-file-1.5.1 sgmllib3k-1.0.0 tinysegmenter-0.3 tldextract-5.1.1\n"
          ]
        }
      ]
    },
    {
      "cell_type": "code",
      "execution_count": null,
      "metadata": {
        "id": "YAsRP4dx-WVo"
      },
      "outputs": [],
      "source": [
        "from textblob import TextBlob\n",
        "from newspaper import Article"
      ]
    },
    {
      "cell_type": "code",
      "source": [
        "url = 'https://www.getmagical.com/blog/positive-review-response-examples'\n",
        "article = Article(url)"
      ],
      "metadata": {
        "id": "3BvxvgW8_B4o"
      },
      "execution_count": null,
      "outputs": []
    },
    {
      "cell_type": "code",
      "source": [
        "import nltk\n",
        "nltk.download('punkt')"
      ],
      "metadata": {
        "colab": {
          "base_uri": "https://localhost:8080/"
        },
        "id": "ct6QJl32AyTH",
        "outputId": "74b4cde5-bd44-4a2f-9738-b2034bbc961b"
      },
      "execution_count": null,
      "outputs": [
        {
          "output_type": "stream",
          "name": "stderr",
          "text": [
            "[nltk_data] Downloading package punkt to /root/nltk_data...\n",
            "[nltk_data]   Package punkt is already up-to-date!\n"
          ]
        },
        {
          "output_type": "execute_result",
          "data": {
            "text/plain": [
              "True"
            ]
          },
          "metadata": {},
          "execution_count": 18
        }
      ]
    },
    {
      "cell_type": "code",
      "source": [
        "article.download()\n",
        "article.parse()\n",
        "article.nlp()\n",
        "\n",
        "text = article.text\n",
        "print(text)"
      ],
      "metadata": {
        "colab": {
          "base_uri": "https://localhost:8080/"
        },
        "id": "JY2P4rlR_iQ4",
        "outputId": "f6407b7f-a437-4610-929b-18a976090369"
      },
      "execution_count": null,
      "outputs": [
        {
          "output_type": "stream",
          "name": "stdout",
          "text": [
            "It’s always good to acknowledge customer feedback quickly and authentically. This goes for positive reviews as well as negative ones. And if you have a few positive review response examples handy, you can create templates that speed up your response rates and nurture that fuzzy feeling among your happiest customers. ♥️\n",
            "\n",
            "What do you say in response to a positive review?\n",
            "\n",
            "One of the biggest challenges with a positive review response is that you don’t want to keep repeating yourself. This risks coming across like you’re not really listening, and you’re just copy-pasting boilerplate thank yous to everyone. You’ll definitely benefit from switching things up, but here are a few common things to include in your responses:\n",
            "\n",
            "Express appreciation for the positive feedback Reiterate the positive aspects of the review Personalize your response Invite the customer to return\n",
            "\n",
            "The positive review examples we feature below include all of these elements without looking like carbon copies of each other.\n",
            "\n",
            "Note: Towards the end of this guide, we’ll introduce our app, Magical. You can use Magical’s text expander in combo with these templates to speed up your customer review response rate. ✌️\n",
            "\n",
            "Generate a custom response to a positive review instantly using AI\n",
            "\n",
            "Want to get more specific with your response to a positive review? Use the Magical template generator to quickly create custom responses to your customers. For example, you can ask the generator to 'write a response to a positive review mentioning the price of the product.' You can even set the tone of voice to make sure you get the message just right. To generate an unlimited number of responses, add the free Magical Chrome extension to your browser.\n",
            "\n",
            "{{ai-generator=\"/ai-template-generator\"}}\n",
            "\n",
            "Positive Review Response Example #1\n",
            "\n",
            "Thanks so much for your feedback [CUSTOMER NAME]! It makes our day hearing about how much our customers love [PRODUCT/SERVICE NAME] and the great service they’ve received from our team. We have passed on your review to our team and look forward to seeing you in our [LOCATION] store again.\n",
            "\n",
            "Positive Review Response Example #2\n",
            "\n",
            "Hi [CUSTOMER NAME], Your kind words about our [PRODUCT/SERVICE NAME] are really appreciated. We love making our customer’s days and we can’t wait to have the opportunity to make you smile again! Thanks for choosing us!\n",
            "\n",
            "Positive Review Response Example #3\n",
            "\n",
            "Your review made our day, [CUSTOMER NAME]. We’ve passed your comments on to our team so they can enjoy the good vibes too. Comments like yours make our work worthwhile. We love that you enjoy using [PRODUCT/SERVICE] and found the [SPECIFIC ASPECT] so useful. We couldn’t create/provide the [PRODUCT/SERVICE] that we do without great customers like you! Thanks for choosing us to deliver [BENEFIT], we can’t wait to help you again!\n",
            "\n",
            "Positive Review Response Example #4\n",
            "\n",
            "We really appreciate you taking the time to leave us a review, [CUSTOMER NAME]. These are the stories that keep us so motivated to continue doing what we’re doing, and we’re so happy to hear that you had a great experience. Let us know if we can do anything else for you.\n",
            "\n",
            "Positive Review Response Example #5\n",
            "\n",
            "Thanks [CUSTOMER NAME] for your great review of our [SERVICE]. We’ve passed your kind words on to our team. The [TEAM NAME] are passionate about providing all of our customers with outstanding experiences and they’ll be delighted to know they hit the mark with you. We hope that in the future we’ll be able to provide a similarly excellent experience. Please let us know if there are any areas we can improve upon in future, we value our customer’s feedback for helping us to keep improving our [SERVICE].\n",
            "\n",
            "Positive Review Response Example #6\n",
            "\n",
            "We’ve passed your wonderful review onto our team at [LOCATION], [CUSTOMER NAME]. Thanks so much for taking the time to leave a review about our [SERVICE]. Our customer’s feedback guides our business and helps us keep improving the service we provide. We look forward to delivering another excellent experience to you next time you visit one of our stores. Thanks for choosing to shop with us!\n",
            "\n",
            "Positive Review Response Example #7\n",
            "\n",
            "Taking the time to leave such a great review about our [SERVICE], has really made our day [CUSTOMER NAME]! We always aim to delight our customers with our customer service and our attention to detail. It’s great to hear we delivered on our promise to WOW you with our [BENEFIT] and [BENEFIT]. We’re looking forward to making your day once more when you next visit our store in [LOCATION].\n",
            "\n",
            "Positive Review Response Example #8\n",
            "\n",
            "Hearing how much you love [PRODUCT] has brightened up our day at [COMPANY NAME]! Thanks for the great review you left us [CUSTOMER NAME] and for choosing to shop with us! We can’t wait to hear what you think of our new season [PRODUCT RANGE] that will be hitting our [LOCATION] stores next month!\n",
            "\n",
            "Positive Review Response Example #9\n",
            "\n",
            "Thanks for the awesome review about our [PRODUCT], [CUSTOMER NAME]. We’re so pleased to hear it's working just as it should and that you’re enjoying it so much! We’ve passed your kind words on to our product team. If there is anything else we can do, please let us know. We hope to see you in our [LOCATION] store again when you next need a [PRODUCT].\n",
            "\n",
            "Positive Review Response Example #10\n",
            "\n",
            "Hi [CUSTOMER NAME], I’m so pleased you're enjoying [PRODUCT]! I’ve passed your feedback about [BENEFIT] and [BENEFIT] on to our product team and know they’ll be thrilled to hear how much you love [PRODUCT]. Please let us know if there is anything else we can help you with. We look forward to helping you with [PRODUCT CATEGORY] in the future!\n",
            "\n",
            "Responding to positive review examples without comments\n",
            "\n",
            "Reviews are getting shorter—they’re more likely to be around the length of a tweet these days. And sometimes there are no comments left with a positive review—just a score or rating by itself. But even positive reviews that don’t include extra details should be responded to.\n",
            "\n",
            "Responding to all positive customer reviews will encourage more customers to leave great feedback. When customers know they’re being heard, they’re more likely to speak up.\n",
            "\n",
            "\n",
            "\n",
            "So what do you say in response to a positive review that has little or no detail about the customer’s experience? These examples of a positive response are perfect for replying to customers who leave less detailed positive reviews:\n",
            "\n",
            "\n",
            "\n",
            "Positive Review Response Example #11\n",
            "\n",
            "Thanks so much for your review [CUSTOMER NAME], we love getting feedback about our [PRODUCT/SERVICE] and take pride in our customer service. Please get in touch if there is anything else we can do to make your day.\n",
            "\n",
            "Positive Review Response Example #12\n",
            "\n",
            "Thanks for the [NUMBER] stars [CUSTOMER NAME], your review is a great way to let us know we’re on track for making our customers smile! We appreciate you taking the time to give your feedback and look forward to serving you again in the future.\n",
            "\n",
            "Positive Review Response Example #13\n",
            "\n",
            "Thanks for the [NUMBER]-star review, [CUSTOMER NAME]. You made our day! We look forward to making your day again real soon.\n",
            "\n",
            "Positive Review Response Example #14\n",
            "\n",
            "We really appreciate you taking the time to leave us your [NUMBER]-star review. It means a lot to the whole team, and we’d love to have you back very soon.\n",
            "\n",
            "Positive Review Response Example #15\n",
            "\n",
            "We spotted your [NUMBER]-star review. Wow! Thank you so much for trusting us, and we can’t wait to help you again in the future.\n",
            "\n",
            "How to use a positive review template effectively\n",
            "\n",
            "The trick to using these positive review templates effectively is to switch them up. It helps to have five or more variations that you can tinker with quickly. And using these templates in combo with Magical means you can summon the right words in just a couple of keystrokes.\n",
            "\n",
            "\n",
            "\n",
            "\n",
            "\n",
            "Collectively, Magical has saved customer support teams more than 356 years of time. 🤯\n",
            "\n",
            "Our app is used by the likes of Uber, Airbnb, Disney, Facebook, and Salesforce. There’s no complex setup required—simply add it to Chrome and Magical works like a charm. Never send the same message over and over again—just drop your best templates into any field and personalize it as much as you want.\n",
            "\n",
            "If you nurture relationships with the people who leave positive reviews, that’ll help turn them into long-term loyal customers. These positive review response examples will set you off on the right path, and you can use Magical to drop personalized variations into whichever review response platform you’re using on the web.\n"
          ]
        }
      ]
    },
    {
      "cell_type": "code",
      "source": [
        "blob = TextBlob(text)\n",
        "sentiment = blob.sentiment.polarity # -1 to 1\n",
        "print(sentiment)"
      ],
      "metadata": {
        "colab": {
          "base_uri": "https://localhost:8080/"
        },
        "id": "rxunJxSqAPio",
        "outputId": "96c0e22c-3e05-4025-e43a-aa723a40e09b"
      },
      "execution_count": null,
      "outputs": [
        {
          "output_type": "stream",
          "name": "stdout",
          "text": [
            "0.31728863894042475\n"
          ]
        }
      ]
    }
  ]
}